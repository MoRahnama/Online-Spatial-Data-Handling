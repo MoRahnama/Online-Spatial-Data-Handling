{
 "cells": [
  {
   "cell_type": "markdown",
   "id": "16e4a79e",
   "metadata": {},
   "source": [
    "# Module 3\n",
    "## Core GIS Concepts\n"
   ]
  },
  {
   "cell_type": "markdown",
   "id": "7e2c3b7e",
   "metadata": {},
   "source": [
    "In this activity, we will open some human and machine readable files (e.g.: csv, XML, geoJSON), investigate how the data is handled when opened using 'open' command versus when its loaded with the geopandas library. We will explore projection informaton in the files, add records and write to new files. \n",
    "<p>\n",
    "There are files in the data folder for this activity that you will need. Please download and unzip the file."
   ]
  },
  {
   "cell_type": "markdown",
   "id": "86eea0fe-abf5-4988-be7e-992040efaf21",
   "metadata": {},
   "source": [
    "First, we'll load the libraries for this module: geopandas, matplotlib. GeoPandas extends the datatypes used by pandas, as we learned in previous activity, to allow for spatial operations on geometric types"
   ]
  },
  {
   "cell_type": "code",
   "execution_count": 1,
   "id": "78290f27",
   "metadata": {},
   "outputs": [],
   "source": [
    "# import text file as geopandas array\n",
    "import geopandas as gpd\n",
    "from osgeo import gdal, ogr\n",
    "import matplotlib.pyplot as plt\n",
    "import urllib\n",
    "import os"
   ]
  },
  {
   "cell_type": "markdown",
   "id": "c809b64a",
   "metadata": {},
   "source": [
    "Now, we'll assign a variable 'filename' to the csv file we want to open:"
   ]
  },
  {
   "cell_type": "code",
   "execution_count": 2,
   "id": "06d92457",
   "metadata": {},
   "outputs": [],
   "source": [
    "#assign file to a variable:\n",
    "filename = \"./M3_AprilTemp_Projected.csv\""
   ]
  },
  {
   "cell_type": "markdown",
   "id": "def80179",
   "metadata": {},
   "source": [
    "### Open the CSV file using geopandas"
   ]
  },
  {
   "cell_type": "code",
   "execution_count": 3,
   "id": "1ec01657",
   "metadata": {},
   "outputs": [
    {
     "name": "stdout",
     "output_type": "stream",
     "text": [
      "  OID_                 Long                 Lat            Stn_Name  Clim_ID  \\\n",
      "0    6  -66.537000000000006  45.869000000000000         FREDERICTON  8101505   \n",
      "1    7  -66.430000000000007  45.829999999999998          GAGETOWN A  8101792   \n",
      "2    8  -66.802000000000007  44.712000000000003  GRAND MANAN SAR CS  8101925   \n",
      "3   10  -65.465000000000003  47.009000000000000       MIRAMICHI RCS  8100989   \n",
      "4   14  -67.715999999999994  46.712000000000003           AROOSTOOK  8100300   \n",
      "5   15  -64.679000000000002  46.112000000000002      MONCTON INTL A  8103201   \n",
      "6   16  -64.768000000000001  46.430000000000000    BUCTOUCHE CDA CS  8100593   \n",
      "7   17  -66.608999999999995  45.920000000000002  FREDERICTON CDA CS  8101605   \n",
      "8   18  -66.450000000000003  45.838999999999999     GAGETOWN AWOS A  8101794   \n",
      "\n",
      "  Prov        AvgTempDegC_                 Northing                  Easting  \\\n",
      "0   NB   7.750000000000000  7429866.332100000232458  2497127.196600001305342   \n",
      "1   NB   7.912500000000000  7425533.515200000256300  2505438.646800000220537   \n",
      "2   NB   8.262499999999999  7301320.677299998700619  2476065.524599999189377   \n",
      "3   NB   8.387499999999999  7557095.627700001001358  2578698.018100000917912   \n",
      "4   NB   8.824999999999999  7524280.390900000929832  2407029.971900001168251   \n",
      "5   NB   9.775000000000000  7458490.997499998658895  2640758.191500000655651   \n",
      "6   NB   9.925000000000001  7493676.989999998360872  2633105.746700000017881   \n",
      "7   NB  10.000000000000000  7435539.739000000059605  2491544.799899999052286   \n",
      "8   NB  10.412500000000000  7426532.619500000029802  2503884.097699999809265   \n",
      "\n",
      "  geometry  \n",
      "0     None  \n",
      "1     None  \n",
      "2     None  \n",
      "3     None  \n",
      "4     None  \n",
      "5     None  \n",
      "6     None  \n",
      "7     None  \n",
      "8     None  \n"
     ]
    }
   ],
   "source": [
    "#now open in Geopandas dataframe and see the difference in how data is assigned. \n",
    "gdf = gpd.read_file(filename)\n",
    "# and print the data, gdf. Notice the difference from the previous print. \n",
    "print(gdf)\n",
    "#notice that the points the file have a Lat/Lon and Northing Easting field, but the Geomtry Column is empty.\n"
   ]
  },
  {
   "cell_type": "markdown",
   "id": "308604d7",
   "metadata": {},
   "source": [
    "## Explore the dataframe:"
   ]
  },
  {
   "cell_type": "code",
   "execution_count": 4,
   "id": "cd7d0350",
   "metadata": {},
   "outputs": [
    {
     "data": {
      "text/plain": [
       "OID_            0\n",
       "Long            0\n",
       "Lat             0\n",
       "Stn_Name        0\n",
       "Clim_ID         0\n",
       "Prov            0\n",
       "AvgTempDegC_    0\n",
       "Northing        0\n",
       "Easting         0\n",
       "geometry        9\n",
       "dtype: int64"
      ]
     },
     "execution_count": 4,
     "metadata": {},
     "output_type": "execute_result"
    }
   ],
   "source": [
    "#count the NaN in the table:\n",
    "gdf.isna().sum()"
   ]
  },
  {
   "cell_type": "code",
   "execution_count": 5,
   "id": "65e8bba0",
   "metadata": {},
   "outputs": [
    {
     "data": {
      "text/plain": [
       "9"
      ]
     },
     "execution_count": 5,
     "metadata": {},
     "output_type": "execute_result"
    }
   ],
   "source": [
    "#drop rows with NaN\n",
    "gdf.dropna(subset=[\"AvgTempDegC_\"], inplace=True)\n",
    "#get length of new dataframe\n",
    "len(gdf)"
   ]
  },
  {
   "cell_type": "code",
   "execution_count": 6,
   "id": "2672980b-4904-45f2-98f4-2f44294ab46a",
   "metadata": {},
   "outputs": [
    {
     "name": "stdout",
     "output_type": "stream",
     "text": [
      "0     7.750000000000000\n",
      "1     7.912500000000000\n",
      "2     8.262499999999999\n",
      "3     8.387499999999999\n",
      "4     8.824999999999999\n",
      "5     9.775000000000000\n",
      "6     9.925000000000001\n",
      "7    10.000000000000000\n",
      "8    10.412500000000000\n",
      "Name: AvgTempDegC_, dtype: object\n"
     ]
    }
   ],
   "source": [
    "#print all the temperatures:\n",
    "print(gdf.AvgTempDegC_)"
   ]
  },
  {
   "cell_type": "code",
   "execution_count": 7,
   "id": "a360fba4",
   "metadata": {},
   "outputs": [
    {
     "ename": "TypeError",
     "evalue": "'>' not supported between instances of 'str' and 'float'",
     "output_type": "error",
     "traceback": [
      "\u001b[1;31m---------------------------------------------------------------------------\u001b[0m",
      "\u001b[1;31mTypeError\u001b[0m                                 Traceback (most recent call last)",
      "Input \u001b[1;32mIn [7]\u001b[0m, in \u001b[0;36m<cell line: 2>\u001b[1;34m()\u001b[0m\n\u001b[0;32m      1\u001b[0m \u001b[38;5;66;03m#print all the rows with Temperature > 9.5°:\u001b[39;00m\n\u001b[1;32m----> 2\u001b[0m gdf\u001b[38;5;241m.\u001b[39mloc[\u001b[43mgdf\u001b[49m\u001b[43m[\u001b[49m\u001b[38;5;124;43m'\u001b[39;49m\u001b[38;5;124;43mAvgTempDegC_\u001b[39;49m\u001b[38;5;124;43m'\u001b[39;49m\u001b[43m]\u001b[49m\u001b[43m \u001b[49m\u001b[38;5;241;43m>\u001b[39;49m\u001b[43m \u001b[49m\u001b[38;5;241;43m9.5\u001b[39;49m]\n",
      "File \u001b[1;32m~\\Miniconda3\\lib\\site-packages\\pandas\\core\\ops\\common.py:70\u001b[0m, in \u001b[0;36m_unpack_zerodim_and_defer.<locals>.new_method\u001b[1;34m(self, other)\u001b[0m\n\u001b[0;32m     66\u001b[0m             \u001b[38;5;28;01mreturn\u001b[39;00m \u001b[38;5;28mNotImplemented\u001b[39m\n\u001b[0;32m     68\u001b[0m other \u001b[38;5;241m=\u001b[39m item_from_zerodim(other)\n\u001b[1;32m---> 70\u001b[0m \u001b[38;5;28;01mreturn\u001b[39;00m \u001b[43mmethod\u001b[49m\u001b[43m(\u001b[49m\u001b[38;5;28;43mself\u001b[39;49m\u001b[43m,\u001b[49m\u001b[43m \u001b[49m\u001b[43mother\u001b[49m\u001b[43m)\u001b[49m\n",
      "File \u001b[1;32m~\\Miniconda3\\lib\\site-packages\\pandas\\core\\arraylike.py:56\u001b[0m, in \u001b[0;36mOpsMixin.__gt__\u001b[1;34m(self, other)\u001b[0m\n\u001b[0;32m     54\u001b[0m \u001b[38;5;129m@unpack_zerodim_and_defer\u001b[39m(\u001b[38;5;124m\"\u001b[39m\u001b[38;5;124m__gt__\u001b[39m\u001b[38;5;124m\"\u001b[39m)\n\u001b[0;32m     55\u001b[0m \u001b[38;5;28;01mdef\u001b[39;00m \u001b[38;5;21m__gt__\u001b[39m(\u001b[38;5;28mself\u001b[39m, other):\n\u001b[1;32m---> 56\u001b[0m     \u001b[38;5;28;01mreturn\u001b[39;00m \u001b[38;5;28;43mself\u001b[39;49m\u001b[38;5;241;43m.\u001b[39;49m\u001b[43m_cmp_method\u001b[49m\u001b[43m(\u001b[49m\u001b[43mother\u001b[49m\u001b[43m,\u001b[49m\u001b[43m \u001b[49m\u001b[43moperator\u001b[49m\u001b[38;5;241;43m.\u001b[39;49m\u001b[43mgt\u001b[49m\u001b[43m)\u001b[49m\n",
      "File \u001b[1;32m~\\Miniconda3\\lib\\site-packages\\pandas\\core\\series.py:5623\u001b[0m, in \u001b[0;36mSeries._cmp_method\u001b[1;34m(self, other, op)\u001b[0m\n\u001b[0;32m   5620\u001b[0m rvalues \u001b[38;5;241m=\u001b[39m extract_array(other, extract_numpy\u001b[38;5;241m=\u001b[39m\u001b[38;5;28;01mTrue\u001b[39;00m, extract_range\u001b[38;5;241m=\u001b[39m\u001b[38;5;28;01mTrue\u001b[39;00m)\n\u001b[0;32m   5622\u001b[0m \u001b[38;5;28;01mwith\u001b[39;00m np\u001b[38;5;241m.\u001b[39merrstate(\u001b[38;5;28mall\u001b[39m\u001b[38;5;241m=\u001b[39m\u001b[38;5;124m\"\u001b[39m\u001b[38;5;124mignore\u001b[39m\u001b[38;5;124m\"\u001b[39m):\n\u001b[1;32m-> 5623\u001b[0m     res_values \u001b[38;5;241m=\u001b[39m \u001b[43mops\u001b[49m\u001b[38;5;241;43m.\u001b[39;49m\u001b[43mcomparison_op\u001b[49m\u001b[43m(\u001b[49m\u001b[43mlvalues\u001b[49m\u001b[43m,\u001b[49m\u001b[43m \u001b[49m\u001b[43mrvalues\u001b[49m\u001b[43m,\u001b[49m\u001b[43m \u001b[49m\u001b[43mop\u001b[49m\u001b[43m)\u001b[49m\n\u001b[0;32m   5625\u001b[0m \u001b[38;5;28;01mreturn\u001b[39;00m \u001b[38;5;28mself\u001b[39m\u001b[38;5;241m.\u001b[39m_construct_result(res_values, name\u001b[38;5;241m=\u001b[39mres_name)\n",
      "File \u001b[1;32m~\\Miniconda3\\lib\\site-packages\\pandas\\core\\ops\\array_ops.py:283\u001b[0m, in \u001b[0;36mcomparison_op\u001b[1;34m(left, right, op)\u001b[0m\n\u001b[0;32m    280\u001b[0m     \u001b[38;5;28;01mreturn\u001b[39;00m invalid_comparison(lvalues, rvalues, op)\n\u001b[0;32m    282\u001b[0m \u001b[38;5;28;01melif\u001b[39;00m is_object_dtype(lvalues\u001b[38;5;241m.\u001b[39mdtype) \u001b[38;5;129;01mor\u001b[39;00m \u001b[38;5;28misinstance\u001b[39m(rvalues, \u001b[38;5;28mstr\u001b[39m):\n\u001b[1;32m--> 283\u001b[0m     res_values \u001b[38;5;241m=\u001b[39m \u001b[43mcomp_method_OBJECT_ARRAY\u001b[49m\u001b[43m(\u001b[49m\u001b[43mop\u001b[49m\u001b[43m,\u001b[49m\u001b[43m \u001b[49m\u001b[43mlvalues\u001b[49m\u001b[43m,\u001b[49m\u001b[43m \u001b[49m\u001b[43mrvalues\u001b[49m\u001b[43m)\u001b[49m\n\u001b[0;32m    285\u001b[0m \u001b[38;5;28;01melse\u001b[39;00m:\n\u001b[0;32m    286\u001b[0m     res_values \u001b[38;5;241m=\u001b[39m _na_arithmetic_op(lvalues, rvalues, op, is_cmp\u001b[38;5;241m=\u001b[39m\u001b[38;5;28;01mTrue\u001b[39;00m)\n",
      "File \u001b[1;32m~\\Miniconda3\\lib\\site-packages\\pandas\\core\\ops\\array_ops.py:73\u001b[0m, in \u001b[0;36mcomp_method_OBJECT_ARRAY\u001b[1;34m(op, x, y)\u001b[0m\n\u001b[0;32m     71\u001b[0m     result \u001b[38;5;241m=\u001b[39m libops\u001b[38;5;241m.\u001b[39mvec_compare(x\u001b[38;5;241m.\u001b[39mravel(), y\u001b[38;5;241m.\u001b[39mravel(), op)\n\u001b[0;32m     72\u001b[0m \u001b[38;5;28;01melse\u001b[39;00m:\n\u001b[1;32m---> 73\u001b[0m     result \u001b[38;5;241m=\u001b[39m \u001b[43mlibops\u001b[49m\u001b[38;5;241;43m.\u001b[39;49m\u001b[43mscalar_compare\u001b[49m\u001b[43m(\u001b[49m\u001b[43mx\u001b[49m\u001b[38;5;241;43m.\u001b[39;49m\u001b[43mravel\u001b[49m\u001b[43m(\u001b[49m\u001b[43m)\u001b[49m\u001b[43m,\u001b[49m\u001b[43m \u001b[49m\u001b[43my\u001b[49m\u001b[43m,\u001b[49m\u001b[43m \u001b[49m\u001b[43mop\u001b[49m\u001b[43m)\u001b[49m\n\u001b[0;32m     74\u001b[0m \u001b[38;5;28;01mreturn\u001b[39;00m result\u001b[38;5;241m.\u001b[39mreshape(x\u001b[38;5;241m.\u001b[39mshape)\n",
      "File \u001b[1;32m~\\Miniconda3\\lib\\site-packages\\pandas\\_libs\\ops.pyx:107\u001b[0m, in \u001b[0;36mpandas._libs.ops.scalar_compare\u001b[1;34m()\u001b[0m\n",
      "\u001b[1;31mTypeError\u001b[0m: '>' not supported between instances of 'str' and 'float'"
     ]
    }
   ],
   "source": [
    "#print all the rows with Temperature > 9.5°:\n",
    "gdf.loc[gdf['AvgTempDegC_'] > 9.5]"
   ]
  },
  {
   "cell_type": "code",
   "execution_count": 8,
   "id": "646fdd41",
   "metadata": {},
   "outputs": [
    {
     "name": "stdout",
     "output_type": "stream",
     "text": [
      "Output:\n",
      "OID_              object\n",
      "Long              object\n",
      "Lat               object\n",
      "Stn_Name          object\n",
      "Clim_ID           object\n",
      "Prov              object\n",
      "AvgTempDegC_      object\n",
      "Northing          object\n",
      "Easting           object\n",
      "geometry        geometry\n",
      "dtype: object\n"
     ]
    }
   ],
   "source": [
    "### We get an error. \n",
    "#AvgTempDegC_, as stated above is an 'object', but we want it to be a float? \n",
    "result = gdf.dtypes\n",
    "\n",
    "print(\"Output:\")\n",
    "print(result)\n",
    "#mixed data types values so that the resultant dtype of that particular column is represented as an object dtype"
   ]
  },
  {
   "cell_type": "code",
   "execution_count": null,
   "id": "cccef1c1",
   "metadata": {},
   "outputs": [],
   "source": [
    "# Change the type of AvgTempDegC_ to float"
   ]
  },
  {
   "cell_type": "code",
   "execution_count": 9,
   "id": "236710af",
   "metadata": {},
   "outputs": [
    {
     "name": "stdout",
     "output_type": "stream",
     "text": [
      "Output:\n",
      "OID_              object\n",
      "Long              object\n",
      "Lat               object\n",
      "Stn_Name          object\n",
      "Clim_ID           object\n",
      "Prov              object\n",
      "AvgTempDegC_     float64\n",
      "Northing          object\n",
      "Easting           object\n",
      "geometry        geometry\n",
      "dtype: object\n"
     ]
    }
   ],
   "source": [
    "gdf = gdf.astype({\"AvgTempDegC_\": float})\n",
    "result = gdf.dtypes\n",
    "\n",
    "print(\"Output:\")\n",
    "print(result)"
   ]
  },
  {
   "cell_type": "code",
   "execution_count": 10,
   "id": "3e0eafde",
   "metadata": {},
   "outputs": [
    {
     "data": {
      "text/html": [
       "<div>\n",
       "<style scoped>\n",
       "    .dataframe tbody tr th:only-of-type {\n",
       "        vertical-align: middle;\n",
       "    }\n",
       "\n",
       "    .dataframe tbody tr th {\n",
       "        vertical-align: top;\n",
       "    }\n",
       "\n",
       "    .dataframe thead th {\n",
       "        text-align: right;\n",
       "    }\n",
       "</style>\n",
       "<table border=\"1\" class=\"dataframe\">\n",
       "  <thead>\n",
       "    <tr style=\"text-align: right;\">\n",
       "      <th></th>\n",
       "      <th>OID_</th>\n",
       "      <th>Long</th>\n",
       "      <th>Lat</th>\n",
       "      <th>Stn_Name</th>\n",
       "      <th>Clim_ID</th>\n",
       "      <th>Prov</th>\n",
       "      <th>AvgTempDegC_</th>\n",
       "      <th>Northing</th>\n",
       "      <th>Easting</th>\n",
       "      <th>geometry</th>\n",
       "    </tr>\n",
       "  </thead>\n",
       "  <tbody>\n",
       "    <tr>\n",
       "      <th>5</th>\n",
       "      <td>15</td>\n",
       "      <td>-64.679000000000002</td>\n",
       "      <td>46.112000000000002</td>\n",
       "      <td>MONCTON INTL A</td>\n",
       "      <td>8103201</td>\n",
       "      <td>NB</td>\n",
       "      <td>9.7750</td>\n",
       "      <td>7458490.997499998658895</td>\n",
       "      <td>2640758.191500000655651</td>\n",
       "      <td>None</td>\n",
       "    </tr>\n",
       "    <tr>\n",
       "      <th>6</th>\n",
       "      <td>16</td>\n",
       "      <td>-64.768000000000001</td>\n",
       "      <td>46.430000000000000</td>\n",
       "      <td>BUCTOUCHE CDA CS</td>\n",
       "      <td>8100593</td>\n",
       "      <td>NB</td>\n",
       "      <td>9.9250</td>\n",
       "      <td>7493676.989999998360872</td>\n",
       "      <td>2633105.746700000017881</td>\n",
       "      <td>None</td>\n",
       "    </tr>\n",
       "    <tr>\n",
       "      <th>7</th>\n",
       "      <td>17</td>\n",
       "      <td>-66.608999999999995</td>\n",
       "      <td>45.920000000000002</td>\n",
       "      <td>FREDERICTON CDA CS</td>\n",
       "      <td>8101605</td>\n",
       "      <td>NB</td>\n",
       "      <td>10.0000</td>\n",
       "      <td>7435539.739000000059605</td>\n",
       "      <td>2491544.799899999052286</td>\n",
       "      <td>None</td>\n",
       "    </tr>\n",
       "    <tr>\n",
       "      <th>8</th>\n",
       "      <td>18</td>\n",
       "      <td>-66.450000000000003</td>\n",
       "      <td>45.838999999999999</td>\n",
       "      <td>GAGETOWN AWOS A</td>\n",
       "      <td>8101794</td>\n",
       "      <td>NB</td>\n",
       "      <td>10.4125</td>\n",
       "      <td>7426532.619500000029802</td>\n",
       "      <td>2503884.097699999809265</td>\n",
       "      <td>None</td>\n",
       "    </tr>\n",
       "  </tbody>\n",
       "</table>\n",
       "</div>"
      ],
      "text/plain": [
       "  OID_                 Long                 Lat            Stn_Name  Clim_ID  \\\n",
       "5   15  -64.679000000000002  46.112000000000002      MONCTON INTL A  8103201   \n",
       "6   16  -64.768000000000001  46.430000000000000    BUCTOUCHE CDA CS  8100593   \n",
       "7   17  -66.608999999999995  45.920000000000002  FREDERICTON CDA CS  8101605   \n",
       "8   18  -66.450000000000003  45.838999999999999     GAGETOWN AWOS A  8101794   \n",
       "\n",
       "  Prov  AvgTempDegC_                 Northing                  Easting  \\\n",
       "5   NB        9.7750  7458490.997499998658895  2640758.191500000655651   \n",
       "6   NB        9.9250  7493676.989999998360872  2633105.746700000017881   \n",
       "7   NB       10.0000  7435539.739000000059605  2491544.799899999052286   \n",
       "8   NB       10.4125  7426532.619500000029802  2503884.097699999809265   \n",
       "\n",
       "  geometry  \n",
       "5     None  \n",
       "6     None  \n",
       "7     None  \n",
       "8     None  "
      ]
     },
     "execution_count": 10,
     "metadata": {},
     "output_type": "execute_result"
    }
   ],
   "source": [
    "#now, lets try againt to print all  the rows with Temperature > 9.5°:\n",
    "gdf.loc[gdf['AvgTempDegC_'] > 9.5]"
   ]
  },
  {
   "cell_type": "markdown",
   "id": "233aa443-3c1c-49b2-a839-1bfe45ed0b4a",
   "metadata": {},
   "source": [
    "### Compute Distance"
   ]
  },
  {
   "cell_type": "code",
   "execution_count": 11,
   "id": "220dd7f6",
   "metadata": {},
   "outputs": [],
   "source": [
    "#create function for computing linear distance\n",
    "#using pythagorean theorem\n",
    "import math\n",
    "def pythagorous(x2,x1,y2,y1):\n",
    "    d=math.sqrt(pow(x2 - x1, 2)+pow(y2-y1, 2))\n",
    "    return(d)\n"
   ]
  },
  {
   "cell_type": "code",
   "execution_count": 12,
   "id": "10b77930",
   "metadata": {},
   "outputs": [],
   "source": [
    "#pythagorous(x2,x1,y2,y1)\n",
    "#for row in data.rows:\n",
    "# get distance from HEAD HAll\n",
    "x1 = 2489038\n",
    "y1 = 7438900\n",
    "\n",
    "# get x2, y2 as the coordinates (Northing,Easting) from FREDERICTON  \n",
    "x2 = float(gdf.Easting[0])\n",
    "y2 = float(gdf.Northing[0])\n",
    "\n"
   ]
  },
  {
   "cell_type": "code",
   "execution_count": 13,
   "id": "557643ca",
   "metadata": {},
   "outputs": [
    {
     "data": {
      "text/plain": [
       "12126.098191956013"
      ]
     },
     "execution_count": 13,
     "metadata": {},
     "output_type": "execute_result"
    }
   ],
   "source": [
    "#now run the pythagorous function:\n",
    "pythagorous(x2,x1, y2,y1)"
   ]
  },
  {
   "cell_type": "code",
   "execution_count": 14,
   "id": "f613ce1c",
   "metadata": {},
   "outputs": [
    {
     "data": {
      "text/plain": [
       "148354.7277746474"
      ]
     },
     "execution_count": 14,
     "metadata": {},
     "output_type": "execute_result"
    }
   ],
   "source": [
    "#do this again, using MIRAMICHI RCS\n",
    "pythagorous(float(gdf.Easting[3]),x1, float(gdf.Northing[3]),y1)"
   ]
  },
  {
   "cell_type": "code",
   "execution_count": 15,
   "id": "7536fad2",
   "metadata": {
    "scrolled": true
   },
   "outputs": [
    {
     "data": {
      "text/plain": [
       "148354.73"
      ]
     },
     "execution_count": 15,
     "metadata": {},
     "output_type": "execute_result"
    }
   ],
   "source": [
    "#round the result to 2 decimals:\n",
    "round(pythagorous(float(gdf.Easting[3]),x1, float(gdf.Northing[3]),y1),2)"
   ]
  },
  {
   "cell_type": "markdown",
   "id": "acc9b639-f997-4e6c-9c86-66b009548a9f",
   "metadata": {},
   "source": [
    "#### Populate the geopandas geometry column"
   ]
  },
  {
   "cell_type": "code",
   "execution_count": 16,
   "id": "74ead81b",
   "metadata": {},
   "outputs": [
    {
     "name": "stdout",
     "output_type": "stream",
     "text": [
      "number of columns in gdf2 is 10\n",
      "\n",
      "0    POINT (2497127.197 7429866.332)\n",
      "1    POINT (2505438.647 7425533.515)\n",
      "2    POINT (2476065.525 7301320.677)\n",
      "3    POINT (2578698.018 7557095.628)\n",
      "4    POINT (2407029.972 7524280.391)\n",
      "5    POINT (2640758.192 7458490.997)\n",
      "6    POINT (2633105.747 7493676.990)\n",
      "7    POINT (2491544.800 7435539.739)\n",
      "8    POINT (2503884.098 7426532.620)\n",
      "Name: geometry, dtype: geometry\n"
     ]
    }
   ],
   "source": [
    "#assign the easting and northing as the xy geometry and create a new data frame, gdf2\n",
    "gdf2 = gpd.GeoDataFrame(\n",
    "    gdf, geometry=gpd.points_from_xy(gdf.Easting, gdf.Northing)\n",
    ")\n",
    "#get the shape of gdf2:\n",
    "shape2 = gdf2.shape\n",
    "print(f'number of columns in gdf2 is {shape2[1]}' )\n",
    "print()\n",
    "print(gdf2.geometry)"
   ]
  },
  {
   "cell_type": "code",
   "execution_count": 17,
   "id": "aae48021",
   "metadata": {},
   "outputs": [
    {
     "data": {
      "text/plain": [
       "<AxesSubplot:>"
      ]
     },
     "execution_count": 17,
     "metadata": {},
     "output_type": "execute_result"
    },
    {
     "data": {
      "image/png": "[encoded data removed]",
      "text/plain": [
       "<Figure size 432x288 with 1 Axes>"
      ]
     },
     "metadata": {
      "needs_background": "light"
     },
     "output_type": "display_data"
    }
   ],
   "source": [
    "#plot the stations\n",
    "gdf2.plot()"
   ]
  },
  {
   "cell_type": "markdown",
   "id": "06e58fdc",
   "metadata": {},
   "source": [
    "### Investigate the attributes of the geopandas data object:\n"
   ]
  },
  {
   "cell_type": "code",
   "execution_count": 18,
   "id": "620417aa",
   "metadata": {},
   "outputs": [
    {
     "data": {
      "text/plain": [
       "0    Point\n",
       "1    Point\n",
       "2    Point\n",
       "3    Point\n",
       "4    Point\n",
       "dtype: object"
      ]
     },
     "execution_count": 18,
     "metadata": {},
     "output_type": "execute_result"
    }
   ],
   "source": [
    "gdf2.geom_type.head()"
   ]
  },
  {
   "cell_type": "markdown",
   "id": "903c55bc",
   "metadata": {},
   "source": [
    "#this tells us the first 5 entries are Point types. "
   ]
  },
  {
   "cell_type": "markdown",
   "id": "74942d81",
   "metadata": {},
   "source": [
    "#### Find row based on condition, Stn_Name =  GAGETOWN A "
   ]
  },
  {
   "cell_type": "code",
   "execution_count": 19,
   "id": "e9bb48a8",
   "metadata": {},
   "outputs": [
    {
     "data": {
      "text/html": [
       "<div>\n",
       "<style scoped>\n",
       "    .dataframe tbody tr th:only-of-type {\n",
       "        vertical-align: middle;\n",
       "    }\n",
       "\n",
       "    .dataframe tbody tr th {\n",
       "        vertical-align: top;\n",
       "    }\n",
       "\n",
       "    .dataframe thead th {\n",
       "        text-align: right;\n",
       "    }\n",
       "</style>\n",
       "<table border=\"1\" class=\"dataframe\">\n",
       "  <thead>\n",
       "    <tr style=\"text-align: right;\">\n",
       "      <th></th>\n",
       "      <th>OID_</th>\n",
       "      <th>Long</th>\n",
       "      <th>Lat</th>\n",
       "      <th>Stn_Name</th>\n",
       "      <th>Clim_ID</th>\n",
       "      <th>Prov</th>\n",
       "      <th>AvgTempDegC_</th>\n",
       "      <th>Northing</th>\n",
       "      <th>Easting</th>\n",
       "      <th>geometry</th>\n",
       "    </tr>\n",
       "  </thead>\n",
       "  <tbody>\n",
       "    <tr>\n",
       "      <th>1</th>\n",
       "      <td>7</td>\n",
       "      <td>-66.430000000000007</td>\n",
       "      <td>45.829999999999998</td>\n",
       "      <td>GAGETOWN A</td>\n",
       "      <td>8101792</td>\n",
       "      <td>NB</td>\n",
       "      <td>7.9125</td>\n",
       "      <td>7425533.515200000256300</td>\n",
       "      <td>2505438.646800000220537</td>\n",
       "      <td>POINT (2505438.647 7425533.515)</td>\n",
       "    </tr>\n",
       "  </tbody>\n",
       "</table>\n",
       "</div>"
      ],
      "text/plain": [
       "  OID_                 Long                 Lat    Stn_Name  Clim_ID Prov  \\\n",
       "1    7  -66.430000000000007  45.829999999999998  GAGETOWN A  8101792   NB   \n",
       "\n",
       "   AvgTempDegC_                 Northing                  Easting  \\\n",
       "1        7.9125  7425533.515200000256300  2505438.646800000220537   \n",
       "\n",
       "                          geometry  \n",
       "1  POINT (2505438.647 7425533.515)  "
      ]
     },
     "execution_count": 19,
     "metadata": {},
     "output_type": "execute_result"
    }
   ],
   "source": [
    "rslt_df = gdf2.loc[gdf2['Stn_Name'] == \"GAGETOWN A\"]\n",
    "rslt_df"
   ]
  },
  {
   "cell_type": "markdown",
   "id": "c0e9d1b7-8a38-4610-b695-412b88f522c0",
   "metadata": {},
   "source": [
    "### Open a Shapefile using geopandas"
   ]
  },
  {
   "cell_type": "code",
   "execution_count": 21,
   "id": "06b8bd20",
   "metadata": {},
   "outputs": [],
   "source": [
    "shpfile = \"./data/buildings_small.shp\" #change this to the path where you've downloaded the files to"
   ]
  },
  {
   "cell_type": "code",
   "execution_count": 22,
   "id": "0878854c",
   "metadata": {},
   "outputs": [
    {
     "data": {
      "text/plain": [
       "<AxesSubplot:>"
      ]
     },
     "execution_count": 22,
     "metadata": {},
     "output_type": "execute_result"
    },
    {
     "data": {
      "image/png": "[encoded data removed]",
      "text/plain": [
       "<Figure size 432x288 with 1 Axes>"
      ]
     },
     "metadata": {
      "needs_background": "light"
     },
     "output_type": "display_data"
    }
   ],
   "source": [
    "df = gpd.read_file(shpfile)\n",
    "#and plot to see what it looks like:\n",
    "df.plot(color='red')"
   ]
  },
  {
   "cell_type": "code",
   "execution_count": 23,
   "id": "b45e3565",
   "metadata": {},
   "outputs": [
    {
     "data": {
      "text/plain": [
       "0    Polygon\n",
       "1    Polygon\n",
       "2    Polygon\n",
       "3    Polygon\n",
       "4    Polygon\n",
       "dtype: object"
      ]
     },
     "execution_count": 23,
     "metadata": {},
     "output_type": "execute_result"
    }
   ],
   "source": [
    "df.geom_type.head()"
   ]
  },
  {
   "cell_type": "code",
   "execution_count": null,
   "id": "06ad86ed",
   "metadata": {},
   "outputs": [],
   "source": [
    "#this file contains Polygon features"
   ]
  },
  {
   "cell_type": "markdown",
   "id": "836a1c34-2156-49ef-978f-c6c97a842ade",
   "metadata": {},
   "source": [
    "### Getcoordinate system reference (CRS) of this file"
   ]
  },
  {
   "cell_type": "code",
   "execution_count": 24,
   "id": "d959749b",
   "metadata": {},
   "outputs": [
    {
     "data": {
      "text/plain": [
       "<Derived Projected CRS: EPSG:2953>\n",
       "Name: NAD83(CSRS) / New Brunswick Stereographic\n",
       "Axis Info [cartesian]:\n",
       "- N[north]: Northing (metre)\n",
       "- E[east]: Easting (metre)\n",
       "Area of Use:\n",
       "- name: Canada - New Brunswick.\n",
       "- bounds: (-69.05, 44.56, -63.7, 48.07)\n",
       "Coordinate Operation:\n",
       "- name: New Brunswick Stereographic (NAD83)\n",
       "- method: Oblique Stereographic\n",
       "Datum: NAD83 Canadian Spatial Reference System\n",
       "- Ellipsoid: GRS 1980\n",
       "- Prime Meridian: Greenwich"
      ]
     },
     "execution_count": 24,
     "metadata": {},
     "output_type": "execute_result"
    }
   ],
   "source": [
    "#spatialreference.org for more information on crs\n",
    "df.crs"
   ]
  },
  {
   "cell_type": "markdown",
   "id": "154dff99-4b13-4228-8894-c8a99e946304",
   "metadata": {},
   "source": [
    "### Project the data to another coordinate system & view"
   ]
  },
  {
   "cell_type": "code",
   "execution_count": 25,
   "id": "0aefb3da",
   "metadata": {},
   "outputs": [
    {
     "name": "stdout",
     "output_type": "stream",
     "text": [
      "plot 1: Lat/Long, Plot 2: Canada Atlas Lambert - EPSG:3979 \n"
     ]
    },
    {
     "data": {
      "text/plain": [
       "<AxesSubplot:>"
      ]
     },
     "execution_count": 25,
     "metadata": {},
     "output_type": "execute_result"
    },
    {
     "data": {
      "image/png": "[encoded data removed]",
      "text/plain": [
       "<Figure size 432x288 with 1 Axes>"
      ]
     },
     "metadata": {
      "needs_background": "light"
     },
     "output_type": "display_data"
    },
    {
     "data": {
      "image/png": "[encoded data removed]",
      "text/plain": [
       "<Figure size 432x288 with 1 Axes>"
      ]
     },
     "metadata": {
      "needs_background": "light"
     },
     "output_type": "display_data"
    }
   ],
   "source": [
    "#if we want to change the crs to unprojected, latitude/longitude:\n",
    "from pyproj import Transformer\n",
    "ll = df.to_crs(\"epsg:4326\")\n",
    "print(\"plot 1: Lat/Long, Plot 2: Canada Atlas Lambert - EPSG:3979 \")\n",
    "ll.plot()\n",
    "lamb = df.to_crs('epsg:3979')\n",
    "\n",
    "lamb.plot()"
   ]
  },
  {
   "cell_type": "markdown",
   "id": "0d17a59d-3000-4727-ba94-d5ec9f6faeda",
   "metadata": {},
   "source": [
    "### Assign coordinate system\n"
   ]
  },
  {
   "cell_type": "markdown",
   "id": "374fd3c9-4cb9-4a6c-a8c1-a4f6c4a60f9a",
   "metadata": {},
   "source": [
    "Imagine that you have a shapefile or other spatial data, but it does not have the coordinate reference system tied to it. \n",
    "You also know which CRS is supposed to be applied.\n",
    "<p> For a list of projection systems, go to: <a href=\"spatialreference.org\">spatialreference.org</a>"
   ]
  },
  {
   "cell_type": "code",
   "execution_count": 27,
   "id": "86215667-ad9f-4917-b718-be6c42cc10f7",
   "metadata": {},
   "outputs": [],
   "source": [
    "#create a function which takes user input of epsg system - and outputs the esri well known text format\n",
    "def getEpsgCode(epsg):\n",
    "    f=urllib.request.urlopen(\"http://spatialreference.org/ref/epsg/{0}/esriwkt/\".format(epsg))\n",
    "    return (f.read())\n",
    "    print(f)"
   ]
  },
  {
   "cell_type": "code",
   "execution_count": 28,
   "id": "62040d47-6d71-488d-afd9-02d325bd4576",
   "metadata": {},
   "outputs": [
    {
     "data": {
      "text/plain": [
       "b'PROJCS[\"NAD83(NSRS2007) / California zone 4 (ftUS)\",GEOGCS[\"NAD83(NSRS2007)\",DATUM[\"D_\",SPHEROID[\"GRS_1980\",6378137,298.257222101]],PRIMEM[\"Greenwich\",0],UNIT[\"Degree\",0.017453292519943295]],PROJECTION[\"Lambert_Conformal_Conic\"],PARAMETER[\"standard_parallel_1\",37.25],PARAMETER[\"standard_parallel_2\",36],PARAMETER[\"latitude_of_origin\",35.33333333333334],PARAMETER[\"central_meridian\",-119],PARAMETER[\"false_easting\",6561666.667],PARAMETER[\"false_northing\",1640416.667],UNIT[\"Foot_US\",0.30480060960121924]]'"
      ]
     },
     "execution_count": 28,
     "metadata": {},
     "output_type": "execute_result"
    }
   ],
   "source": [
    "getEpsgCode(3496)"
   ]
  },
  {
   "cell_type": "code",
   "execution_count": 29,
   "id": "2e24068b-8612-4022-9d30-021ea704806c",
   "metadata": {},
   "outputs": [],
   "source": [
    "#write prj to the shapefile, so next time it opens, the crs is read correctly\n",
    "shp_filename = \"./data/sample\"\n",
    "\n",
    "def write_prj_file(foldername, shp_filename, epsg):\n",
    "    inShpName = \"./data/{0}.prj\".format(shp_filename)\n",
    "    full_path_name = foldername + inShpName\n",
    "    with open(full_path_name, \"w\") as prj:\n",
    "        epsg_code = getEpsgCode(3496)\n",
    "        e2 = str(epsg_code)\n",
    "        prj.write(e2)\n",
    "        print(\"Finished writing prj\")\n",
    "    "
   ]
  },
  {
   "cell_type": "code",
   "execution_count": 30,
   "id": "ae92184f-46ad-45b9-b91d-97ba5dfaa6e3",
   "metadata": {},
   "outputs": [
    {
     "name": "stdout",
     "output_type": "stream",
     "text": [
      "Finished writing prj\n"
     ]
    }
   ],
   "source": [
    "foldername = \"./\"\n",
    "shp_filename = \"sample\"\n",
    "write_prj_file(foldername, shp_filename, 4326)"
   ]
  },
  {
   "cell_type": "markdown",
   "id": "4fd43233-fce1-4ce0-85f5-d308088113dc",
   "metadata": {},
   "source": [
    "### Convert Shapefile to Raster using OGR"
   ]
  },
  {
   "cell_type": "code",
   "execution_count": 31,
   "id": "ed371b16-eada-497f-a082-e0d926d58a75",
   "metadata": {},
   "outputs": [],
   "source": [
    "from osgeo import ogr\n",
    "from osgeo import gdal\n",
    "from osgeo import osr"
   ]
  },
  {
   "cell_type": "code",
   "execution_count": 32,
   "id": "b0690cae-cb2b-4597-a342-4573c8c27cd1",
   "metadata": {},
   "outputs": [],
   "source": [
    "#set the pixel size for the raster\n",
    "pixel_size = 2\n",
    "no_data_value = -9999"
   ]
  },
  {
   "cell_type": "code",
   "execution_count": 33,
   "id": "344f6d1e",
   "metadata": {},
   "outputs": [
    {
     "name": "stdout",
     "output_type": "stream",
     "text": [
      "2 -9999\n"
     ]
    }
   ],
   "source": [
    "print(pixel_size, no_data_value)"
   ]
  },
  {
   "cell_type": "code",
   "execution_count": 37,
   "id": "b3ac33b4-74e6-4894-ad99-658e202df52c",
   "metadata": {},
   "outputs": [],
   "source": [
    "#we'll use the buildings shapefile that is in NB Double sterographic\n",
    "shpfile = \"./data/buildings_small.shp\"\n",
    "#need to get information from the shapefile: layer information and extent\n",
    "open_shp = ogr.Open(shpfile)\n",
    "shp_layer = open_shp.GetLayer()\n",
    "xmin, xmax, ymin, ymax = shp_layer.GetExtent()"
   ]
  },
  {
   "cell_type": "code",
   "execution_count": 38,
   "id": "f7a031ec-1a05-4a5d-aa93-e77e0ced4556",
   "metadata": {},
   "outputs": [],
   "source": [
    "#set name and location for output raster\n",
    "outRaster = 'buildingraster5.tif'"
   ]
  },
  {
   "cell_type": "code",
   "execution_count": 39,
   "id": "46c1179f-1c36-4d45-bf19-3ea04d83c947",
   "metadata": {},
   "outputs": [],
   "source": [
    "#calculate the resolution distance to pixel value:\n",
    "xres = int((xmax-xmin)/pixel_size)\n",
    "yres = int((ymax-ymin)/pixel_size)"
   ]
  },
  {
   "cell_type": "code",
   "execution_count": 40,
   "id": "cccfdced",
   "metadata": {},
   "outputs": [
    {
     "name": "stdout",
     "output_type": "stream",
     "text": [
      "116 113\n"
     ]
    }
   ],
   "source": [
    "print(xres, yres)"
   ]
  },
  {
   "cell_type": "markdown",
   "id": "6e1ddf58",
   "metadata": {},
   "source": [
    "#### State the requirements for the output:"
   ]
  },
  {
   "cell_type": "code",
   "execution_count": 41,
   "id": "c09f62c3",
   "metadata": {},
   "outputs": [],
   "source": [
    "#state the requirements for the output:\n",
    "image_type = 'GTiff'\n",
    "driver = gdal.GetDriverByName(image_type)"
   ]
  },
  {
   "cell_type": "code",
   "execution_count": 42,
   "id": "15d0b887-40fe-4951-809c-534a36c21081",
   "metadata": {},
   "outputs": [
    {
     "name": "stdout",
     "output_type": "stream",
     "text": [
      "driver.Create settings: \n"
     ]
    },
    {
     "data": {
      "text/plain": [
       "('buildingraster5.tif', 116, 113, 1, 1)"
      ]
     },
     "execution_count": 42,
     "metadata": {},
     "output_type": "execute_result"
    }
   ],
   "source": [
    "print( \"driver.Create settings: \")\n",
    "outRaster, xres, yres, 1, gdal.GDT_Byte"
   ]
  },
  {
   "cell_type": "code",
   "execution_count": 43,
   "id": "324ff914",
   "metadata": {},
   "outputs": [
    {
     "name": "stdout",
     "output_type": "stream",
     "text": [
      "Set Geo Transform settings: \n"
     ]
    },
    {
     "data": {
      "text/plain": [
       "(2488853.612300001, 2, 0, 7438983.891600001, 0, -2)"
      ]
     },
     "execution_count": 43,
     "metadata": {},
     "output_type": "execute_result"
    }
   ],
   "source": [
    "print(\"Set Geo Transform settings: \")\n",
    "xmin, pixel_size, 0, ymax, 0, -pixel_size"
   ]
  },
  {
   "cell_type": "code",
   "execution_count": 44,
   "id": "9f9ef138",
   "metadata": {},
   "outputs": [],
   "source": [
    "ds = driver.Create(outRaster,xres, yres, 1, gdal.GDT_Byte)"
   ]
  },
  {
   "cell_type": "code",
   "execution_count": 45,
   "id": "95fbe3e0",
   "metadata": {},
   "outputs": [],
   "source": [
    "#wkt1 = shp_layer.GetSpatialRef\n",
    "spatref = osr.SpatialReference()\n",
    "spatref.ImportFromEPSG(2953)\n",
    "wkt = spatref.ExportToWkt()"
   ]
  },
  {
   "cell_type": "code",
   "execution_count": 46,
   "id": "406033ef",
   "metadata": {},
   "outputs": [
    {
     "data": {
      "text/plain": [
       "0"
      ]
     },
     "execution_count": 46,
     "metadata": {},
     "output_type": "execute_result"
    }
   ],
   "source": [
    "new_raster = gdal.Open(outRaster, 1)\n",
    "new_raster = driver.Create(outRaster, xres, yres, 1, gdal.GDT_Byte)\n",
    "geotransform = ([ xmin, pixel_size, 0, ymax, 0, -pixel_size])\n",
    "new_raster.SetGeoTransform(geotransform)#xmin, pixel_size, 0, ymax, 0, -pixel_size)"
   ]
  },
  {
   "cell_type": "code",
   "execution_count": 47,
   "id": "5f92891c-bc97-461e-be25-35b35ce539b0",
   "metadata": {},
   "outputs": [
    {
     "data": {
      "text/plain": [
       "0"
      ]
     },
     "execution_count": 47,
     "metadata": {},
     "output_type": "execute_result"
    }
   ],
   "source": [
    "#access the raster band and set nodata:\n",
    "raster_band = new_raster.GetRasterBand(1)\n",
    "raster_band.SetNoDataValue(no_data_value)\n",
    "\n",
    "gdal.RasterizeLayer(new_raster, [1], shp_layer, burn_values=[255])"
   ]
  },
  {
   "cell_type": "code",
   "execution_count": 48,
   "id": "6c26fdde-46f6-4413-8d30-c9b4ae56ae0a",
   "metadata": {},
   "outputs": [],
   "source": [
    "#now open and plot/show the raster:\n",
    "ds = gdal.Open(\"buildingraster5.tif\", gdal.GA_ReadOnly)\n",
    "rb = ds.GetRasterBand(1)\n",
    "img_array = rb.ReadAsArray()"
   ]
  },
  {
   "cell_type": "code",
   "execution_count": 49,
   "id": "c88bdabc",
   "metadata": {
    "scrolled": true
   },
   "outputs": [
    {
     "data": {
      "text/plain": [
       "<matplotlib.image.AxesImage at 0x1baccda0f70>"
      ]
     },
     "execution_count": 49,
     "metadata": {},
     "output_type": "execute_result"
    },
    {
     "data": {
      "image/png": "[encoded data removed]",
      "text/plain": [
       "<Figure size 432x288 with 1 Axes>"
      ]
     },
     "metadata": {
      "needs_background": "light"
     },
     "output_type": "display_data"
    }
   ],
   "source": [
    "#now open and plot/show the raster:\n",
    "image = plt.imread(\"buildingraster5.tif\")\n",
    "plt.imshow(image)"
   ]
  },
  {
   "cell_type": "code",
   "execution_count": 50,
   "id": "16ef0460",
   "metadata": {},
   "outputs": [],
   "source": [
    "#close the file:\n",
    "image = None"
   ]
  },
  {
   "cell_type": "markdown",
   "id": "0b7c4123-38e7-4619-b175-302fa94f1039",
   "metadata": {},
   "source": [
    "### Open a TIF, explore bands, dimensions, etc. using OGR"
   ]
  },
  {
   "cell_type": "code",
   "execution_count": 51,
   "id": "65c1ae52",
   "metadata": {},
   "outputs": [
    {
     "name": "stdout",
     "output_type": "stream",
     "text": [
      "<osgeo.gdal.Dataset; proxy of <Swig Object of type 'GDALDatasetShadow *' at 0x000001BACC576630> >\n"
     ]
    }
   ],
   "source": [
    "from osgeo import gdal\n",
    "dataset = gdal.Open(r\"./data/DTM_30.tif\")\n",
    "print(dataset)\n",
    "#print(r.GetMetadata())"
   ]
  },
  {
   "cell_type": "code",
   "execution_count": 52,
   "id": "c015a88b-ad1a-430a-bd6f-cb6b05b8e138",
   "metadata": {},
   "outputs": [
    {
     "name": "stdout",
     "output_type": "stream",
     "text": [
      "\u001b[1;32m The geotransform parameters are:  \n",
      " (819796.0056000054, 30.0, 0.0, 1074835.389400009, 0.0, -30.0)\n",
      "\n",
      "The Projection information for the raster is: \n",
      " PROJCS[\"NAD83(CSRS) / Canada Atlas Lambert\",GEOGCS[\"NAD83(CSRS)\",DATUM[\"NAD83_Canadian_Spatial_Reference_System\",SPHEROID[\"GRS 1980\",6378137,298.257222101,AUTHORITY[\"EPSG\",\"7019\"]],AUTHORITY[\"EPSG\",\"6140\"]],PRIMEM[\"Greenwich\",0,AUTHORITY[\"EPSG\",\"8901\"]],UNIT[\"degree\",0.0174532925199433,AUTHORITY[\"EPSG\",\"9122\"]],AUTHORITY[\"EPSG\",\"4617\"]],PROJECTION[\"Lambert_Conformal_Conic_2SP\"],PARAMETER[\"latitude_of_origin\",49],PARAMETER[\"central_meridian\",-95],PARAMETER[\"standard_parallel_1\",49],PARAMETER[\"standard_parallel_2\",77],PARAMETER[\"false_easting\",0],PARAMETER[\"false_northing\",0],UNIT[\"metre\",1,AUTHORITY[\"EPSG\",\"9001\"]],AXIS[\"Easting\",EAST],AXIS[\"Northing\",NORTH],AUTHORITY[\"EPSG\",\"3979\"]]\n"
     ]
    }
   ],
   "source": [
    "gt = dataset.GetGeoTransform()\n",
    "print(\"\\033[1;32m The geotransform parameters are:  \\n %s\" % (str(gt)))\n",
    "print(\"\")\n",
    "proj = dataset.GetProjection()\n",
    "print(\"The Projection information for the raster is: \\n %s\" % (str(proj)))"
   ]
  },
  {
   "cell_type": "code",
   "execution_count": 53,
   "id": "e83f8208-167a-4732-b7c5-f3ab39a3ce76",
   "metadata": {},
   "outputs": [
    {
     "name": "stdout",
     "output_type": "stream",
     "text": [
      "1\n",
      "3311\n",
      "3310\n"
     ]
    }
   ],
   "source": [
    "print(dataset.RasterCount)\n",
    "# width \n",
    "print(dataset.RasterXSize)\n",
    "  \n",
    "# height\n",
    "print(dataset.RasterYSize)"
   ]
  },
  {
   "cell_type": "markdown",
   "id": "89f6b61d",
   "metadata": {},
   "source": [
    "#### Find out how many bands and the band information"
   ]
  },
  {
   "cell_type": "code",
   "execution_count": 54,
   "id": "629ba991",
   "metadata": {},
   "outputs": [
    {
     "name": "stdout",
     "output_type": "stream",
     "text": [
      "GETTING BAND : 1 \n",
      "STATS are: Minimum= 0.000, Maximum=1.000, Mean=0.001, StdDev=0.028\n"
     ]
    }
   ],
   "source": [
    "for band in range( dataset.RasterCount ):\n",
    "    band += 1\n",
    "    print(\"GETTING BAND : %s \" % str(band))\n",
    "    srcband = dataset.GetRasterBand(band)\n",
    "    if srcband is None:\n",
    "        continue\n",
    "\n",
    "    stats = srcband.GetStatistics( True, True )\n",
    "    if stats is None:\n",
    "        continue\n",
    "\n",
    "    print(\"STATS are: Minimum= %.3f, Maximum=%.3f, Mean=%.3f, StdDev=%.3f\" % (stats[0], stats[1], stats[2], stats[3]) )"
   ]
  },
  {
   "cell_type": "code",
   "execution_count": null,
   "id": "68268147",
   "metadata": {},
   "outputs": [],
   "source": [
    "dataset = None\n"
   ]
  },
  {
   "cell_type": "code",
   "execution_count": null,
   "id": "707a11c2",
   "metadata": {},
   "outputs": [],
   "source": [
    "dataset."
   ]
  }
 ],
 "metadata": {
  "kernelspec": {
   "display_name": "Python 3 (ipykernel)",
   "language": "python",
   "name": "python3"
  },
  "language_info": {
   "codemirror_mode": {
    "name": "ipython",
    "version": 3
   },
   "file_extension": ".py",
   "mimetype": "text/x-python",
   "name": "python",
   "nbconvert_exporter": "python",
   "pygments_lexer": "ipython3",
   "version": "3.9.13"
  }
 },
 "nbformat": 4,
 "nbformat_minor": 5
}
