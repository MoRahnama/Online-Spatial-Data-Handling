{
 "cells": [
  {
   "cell_type": "code",
   "execution_count": 1,
   "id": "f1a28662",
   "metadata": {},
   "outputs": [
    {
     "data": {
      "text/plain": [
       "45"
      ]
     },
     "execution_count": 1,
     "metadata": {},
     "output_type": "execute_result"
    }
   ],
   "source": [
    "31 +14"
   ]
  },
  {
   "cell_type": "code",
   "execution_count": 2,
   "id": "0a156dd2",
   "metadata": {},
   "outputs": [],
   "source": [
    "a = 13\n",
    "b = 1"
   ]
  },
  {
   "cell_type": "code",
   "execution_count": 3,
   "id": "1581e422",
   "metadata": {},
   "outputs": [],
   "source": [
    "c= a + b"
   ]
  },
  {
   "cell_type": "code",
   "execution_count": 4,
   "id": "3fba8f14",
   "metadata": {},
   "outputs": [
    {
     "data": {
      "text/plain": [
       "int"
      ]
     },
     "execution_count": 4,
     "metadata": {},
     "output_type": "execute_result"
    }
   ],
   "source": [
    "type(c)"
   ]
  },
  {
   "cell_type": "code",
   "execution_count": 5,
   "id": "1791fa12",
   "metadata": {},
   "outputs": [],
   "source": [
    "c = c+ 1.5"
   ]
  },
  {
   "cell_type": "code",
   "execution_count": 6,
   "id": "a2de7555",
   "metadata": {},
   "outputs": [
    {
     "data": {
      "text/plain": [
       "float"
      ]
     },
     "execution_count": 6,
     "metadata": {},
     "output_type": "execute_result"
    }
   ],
   "source": [
    "type(c)"
   ]
  },
  {
   "cell_type": "code",
   "execution_count": null,
   "id": "ab953ce7",
   "metadata": {},
   "outputs": [],
   "source": []
  }
 ],
 "metadata": {
  "kernelspec": {
   "display_name": "Python 3 (ipykernel)",
   "language": "python",
   "name": "python3"
  },
  "language_info": {
   "codemirror_mode": {
    "name": "ipython",
    "version": 3
   },
   "file_extension": ".py",
   "mimetype": "text/x-python",
   "name": "python",
   "nbconvert_exporter": "python",
   "pygments_lexer": "ipython3",
   "version": "3.9.13"
  }
 },
 "nbformat": 4,
 "nbformat_minor": 5
}
