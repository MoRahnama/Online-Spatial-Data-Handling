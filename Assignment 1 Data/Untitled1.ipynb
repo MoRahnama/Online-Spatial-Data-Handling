{
 "cells": [
  {
   "cell_type": "code",
   "execution_count": 1,
   "id": "513e1127",
   "metadata": {},
   "outputs": [],
   "source": [
    "#import ogr:\n",
    "from osgeo import ogr\n",
    "import os \n",
    "import rasterio\n",
    "from matplotlib import pyplot"
   ]
  },
  {
   "cell_type": "code",
   "execution_count": null,
   "id": "8d8e4d8d",
   "metadata": {},
   "outputs": [],
   "source": [
    "import geopandas as gpd\n",
    "\n",
    "# Load the shapefile\n",
    "shapefile = gpd.read_file(\"AL_TA_NB_2_143_eng.shp\")\n",
    "\n",
    "# Filter the data for York County\n",
    "york_county = shapefile[shapefile[\"COUNTY\"] == \"York\"]\n",
    "\n",
    "# Filter the data for Aboriginal Lands\n",
    "aboriginal_lands = york_county[york_county[\"REG_NAME\"].str.contains(\"Aboriginal\")]\n",
    "\n",
    "# Get the name(s) of Aboriginal Lands within York County\n",
    "land_names = aboriginal_lands[\"REG_NAME\"].unique()\n",
    "\n",
    "print(\"The name(s) of Aboriginal Lands within York County are:\")\n",
    "print(\", \".join(land_names))"
   ]
  }
 ],
 "metadata": {
  "kernelspec": {
   "display_name": "Python 3 (ipykernel)",
   "language": "python",
   "name": "python3"
  },
  "language_info": {
   "codemirror_mode": {
    "name": "ipython",
    "version": 3
   },
   "file_extension": ".py",
   "mimetype": "text/x-python",
   "name": "python",
   "nbconvert_exporter": "python",
   "pygments_lexer": "ipython3",
   "version": "3.9.13"
  }
 },
 "nbformat": 4,
 "nbformat_minor": 5
}
