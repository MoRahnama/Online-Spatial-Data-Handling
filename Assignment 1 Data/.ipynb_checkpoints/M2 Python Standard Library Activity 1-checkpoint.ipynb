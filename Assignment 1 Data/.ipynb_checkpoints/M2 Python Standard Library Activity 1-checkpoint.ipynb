{
 "cells": [
  {
   "cell_type": "markdown",
   "id": "3ad12477-4968-499b-8389-57f837df198d",
   "metadata": {},
   "source": [
    "# Module 2\n",
    "## Python  Standard Library\n",
    "### Activity 1\n",
    "#### Setting up your Geospatial Environment"
   ]
  },
  {
   "cell_type": "markdown",
   "id": "ff2d9211-aac8-465e-82a1-27faf5e23d32",
   "metadata": {},
   "source": [
    "In this activity we'll setup your environment and install the libraries that will be used in the course. \n",
    "By installing them all now, we can make sure they are ready to be loaded and run in the associated activity. As well, we can troublshoout any issues with installation.\n",
    "<p> Each of the libraries will be described in more detail in subsequent lectures or activities. \n"
   ]
  },
  {
   "cell_type": "markdown",
   "id": "22e3a275-b74d-4e76-a834-09630f4ad5f8",
   "metadata": {},
   "source": [
    "### Installing"
   ]
  },
  {
   "cell_type": "markdown",
   "id": "7036ad9c-d94d-4153-84d2-7a4063681e26",
   "metadata": {},
   "source": [
    "There are multiple ways to install libraries and packages. You can do it from the notebook or from the conda shell. The libraries may be auto-extracted from internet resources or you can download a file locally to your machine and install from there.\n",
    "<p> Its recommended to install from the terminal/conda shell. However, you can install in from the notebook\n",
    "\n"
   ]
  },
  {
   "cell_type": "markdown",
   "id": "a4e48a70-b13c-4791-9731-48af1c449bda",
   "metadata": {},
   "source": [
    "<p><b> Conda install: </b>\n",
    "   <b><li>Preferably from the terminal/conda shell\n",
    "       <ul> conda install -c conda-forge xxxx </p>\n",
    "    </b>\n",
    "    <p> Alternatively:\n",
    "<p> <b>Pip install</b>\n",
    "    <li>From conda prompt\n",
    "        <ul> pip install xxxxx </ul>\n",
    "    <li>Here, in the notebook:\n",
    "        <ul>!pip install xxxxx\n",
    "            </p>\n",
    "<p><b> Easy Install</b>\n",
    "    <li>From conda prompt\n",
    "        <ul>easy_install xxxxx </ul>\n",
    "    <li>From here, in the notebook\n",
    "        <ul>!easy_install xxxxx\n",
    "     </p>\n",
    "    "
   ]
  },
  {
   "cell_type": "markdown",
   "id": "7a7004b7-c778-43a6-8e9a-5fe3552fab6f",
   "metadata": {},
   "source": [
    "#### Upgrading a package"
   ]
  },
  {
   "cell_type": "markdown",
   "id": "c60c0308-8d8d-4c1f-a230-09b776fe2904",
   "metadata": {},
   "source": [
    "\n",
    "pip install --upgrade xxxx\n",
    "<p> \n",
    "    easy_install --upgrade xxxx\n"
   ]
  },
  {
   "cell_type": "markdown",
   "id": "c3e7c4e3-e2c2-41d9-8286-0cafcf79e4af",
   "metadata": {},
   "source": [
    "### List installed packages"
   ]
  },
  {
   "cell_type": "markdown",
   "id": "028ef33c-e1e0-4b2d-9dbc-467b388c79dc",
   "metadata": {},
   "source": [
    "pip list"
   ]
  },
  {
   "cell_type": "markdown",
   "id": "43bd6d96-f350-425d-b843-b899ea650519",
   "metadata": {},
   "source": [
    "## Lets' get started: "
   ]
  },
  {
   "cell_type": "markdown",
   "id": "d262e3b1-9900-4c35-be9d-82d0896fef5d",
   "metadata": {},
   "source": [
    "First, we'll createa a small function to import the library. If it is properly installed, the code will run successfully. If an error is thrown, it will indicate that there is an issue with the library and you will need to troubleshoot."
   ]
  },
  {
   "cell_type": "code",
   "execution_count": null,
   "id": "1e6a4190-4eea-4c65-8fd9-ca96ce5e477e",
   "metadata": {},
   "outputs": [],
   "source": [
    "def testlib_install(libname):\n",
    "    try:\n",
    "        import libname\n",
    "    except ImportError as e:\n",
    "        pass  # module doesn't exist, deal with it."
   ]
  },
  {
   "cell_type": "code",
   "execution_count": null,
   "id": "ecc352ad",
   "metadata": {},
   "outputs": [],
   "source": [
    "pip list # to list all the libraries you have installed. "
   ]
  },
  {
   "cell_type": "markdown",
   "id": "e6dcad86-c8bc-4581-bddb-9121dd643e87",
   "metadata": {},
   "source": [
    "### pyproj"
   ]
  },
  {
   "cell_type": "code",
   "execution_count": null,
   "id": "ad84ba78",
   "metadata": {},
   "outputs": [],
   "source": [
    "#Brief description: pyproj is a wrapper around proj.4, it works with projections and performs spatial transformations\n",
    "package_name = \"numpy\"\n",
    "testlib_install(package_name)"
   ]
  },
  {
   "cell_type": "markdown",
   "id": "226e6c73-1ba1-47c9-9184-a8840260cc27",
   "metadata": {},
   "source": [
    "### NumPy"
   ]
  },
  {
   "cell_type": "code",
   "execution_count": null,
   "id": "9ee66cb3",
   "metadata": {},
   "outputs": [],
   "source": [
    "#Brief description: Extremely fast multidimensional Python array processor\n",
    "package_name = \"numpy\"\n",
    "testlib_install(package_name)"
   ]
  },
  {
   "cell_type": "markdown",
   "id": "7e7214bf-933d-42df-a050-e29fd8ae0c36",
   "metadata": {},
   "source": [
    "### geopandas"
   ]
  },
  {
   "cell_type": "code",
   "execution_count": null,
   "id": "57a2a552",
   "metadata": {},
   "outputs": [],
   "source": [
    "##Brief description: High level data structures and manipulation tools designed for fast and \n",
    "#easy data analysis (built on top of NumPy), with geospatial support.\n",
    "#It has several dependencies which are installed with it: pandas, shapely, fiona and pyproj\n",
    "package_name = \"geopandas\"\n",
    "testlib_install(package_name)"
   ]
  },
  {
   "cell_type": "markdown",
   "id": "91694322-6a5c-4fdb-94be-3e0d546e60e2",
   "metadata": {},
   "source": [
    "### http "
   ]
  },
  {
   "cell_type": "code",
   "execution_count": null,
   "id": "8832b15a-1a26-4db6-9aab-4da4f0d21f1d",
   "metadata": {},
   "outputs": [],
   "source": [
    "#Brief description: aims to make HTTP request simpler and more human-friendly.\n",
    "package_name = \"http\"\n",
    "testlib_install(package_name)"
   ]
  },
  {
   "cell_type": "markdown",
   "id": "74f32680-19b7-43d4-8bd8-9226d0ddbce5",
   "metadata": {},
   "source": [
    "### gdal"
   ]
  },
  {
   "cell_type": "code",
   "execution_count": null,
   "id": "ddf61996-0e35-4f51-bafa-87d27fce647c",
   "metadata": {},
   "outputs": [],
   "source": [
    "#Brief description: Geospatial Data Abstraction Library (GDAL) OGR Simple Features Library\n",
    "#One of the most powerful and useful geospatial data translators available\n",
    "package_name = \"gdal\"\n",
    "testlib_install(package_name)"
   ]
  },
  {
   "cell_type": "markdown",
   "id": "561d05bd-1de2-4bd3-b644-b4d22b908d3c",
   "metadata": {},
   "source": [
    "### ogr"
   ]
  },
  {
   "cell_type": "code",
   "execution_count": null,
   "id": "4eabde9d-bed0-42db-b50f-942d057aabc3",
   "metadata": {},
   "outputs": [],
   "source": [
    "#Brief description: Vector support, read and write in a variety of formats. \n",
    "#Uses a consistent model to be able to manage the wide variety of vector formats.\n",
    "\n",
    "package_name = \"ogr\"\n",
    "testlib_install(package_name)"
   ]
  },
  {
   "cell_type": "markdown",
   "id": "7733a842-2152-4adc-aa61-50ec39a861d3",
   "metadata": {},
   "source": [
    "### rasterio"
   ]
  },
  {
   "cell_type": "code",
   "execution_count": null,
   "id": "a08eda55-ef05-444a-a508-7d180ffb0865",
   "metadata": {},
   "outputs": [],
   "source": [
    "#Brief description: Rasterio reads and writes GeoTIFF and other raster formats and provides\n",
    "#a Python API based on Numpy N-dimensional arrays and GeoJSON.\n",
    "package_name = \"rasterio\"\n",
    "testlib_install(package_name)"
   ]
  },
  {
   "cell_type": "markdown",
   "id": "18364320-3c03-40c9-9051-7445827b8b3c",
   "metadata": {},
   "source": [
    "### matplotlib"
   ]
  },
  {
   "cell_type": "code",
   "execution_count": null,
   "id": "af863d37-da4a-4796-af5f-30f2f159b4a4",
   "metadata": {},
   "outputs": [],
   "source": [
    "#Brief description: Primarily 2D plotting package, creates publication quality plots\n",
    "package_name = \"matplotlib\"\n",
    "testlib_install(package_name)"
   ]
  },
  {
   "cell_type": "markdown",
   "id": "b9343b41-341e-461a-b816-244ca3498c2f",
   "metadata": {},
   "source": [
    "### ipyleaflet\n"
   ]
  },
  {
   "cell_type": "code",
   "execution_count": null,
   "id": "e5e5b1da-84f3-4e75-822d-972876801497",
   "metadata": {},
   "outputs": [],
   "source": [
    "#Brief description: For creating interactive maps in the Jupyter notebook\n",
    "package_name = \"ipyleaflet\"\n",
    "testlib_install(package_name)"
   ]
  },
  {
   "cell_type": "markdown",
   "id": "e814d36a-ee6f-4728-8bd2-ac036f2c2aad",
   "metadata": {},
   "source": [
    "### Folium"
   ]
  },
  {
   "cell_type": "code",
   "execution_count": null,
   "id": "0df8b377-9504-459b-b647-0af7c40a2245",
   "metadata": {},
   "outputs": [],
   "source": [
    "#Brief description: Folium is meant for displaying static data only\n",
    "package_name = \"folium\"\n",
    "testlib_install(package_name)"
   ]
  },
  {
   "cell_type": "markdown",
   "id": "2e1ad5a3",
   "metadata": {},
   "source": [
    "### owslib"
   ]
  },
  {
   "cell_type": "code",
   "execution_count": null,
   "id": "d19572a0",
   "metadata": {},
   "outputs": [],
   "source": [
    "#Brief description: OWSLib is a Python package for client programming with Open Geospatial Consortium (OGC)\n",
    "#web service (hence OWS) interface standards, and their related content models.\n",
    "package_name = \"owslib\"\n",
    "testlib_install(package_name)"
   ]
  },
  {
   "cell_type": "markdown",
   "id": "74505fc8",
   "metadata": {},
   "source": [
    "### tabulate"
   ]
  },
  {
   "cell_type": "code",
   "execution_count": null,
   "id": "f58ce6c0",
   "metadata": {},
   "outputs": [],
   "source": [
    "#Brief description: Pretty-print tabular data in Python, a library and a command-line utility \n",
    "package_name = \"tabulate\"\n",
    "testlib_install(package_name)"
   ]
  },
  {
   "cell_type": "markdown",
   "id": "b23b7bde",
   "metadata": {},
   "source": [
    "### pySAL"
   ]
  },
  {
   "cell_type": "code",
   "execution_count": null,
   "id": "b5dc271b",
   "metadata": {},
   "outputs": [],
   "source": [
    "#python spatial analysis library for open source, cross platform geospatial data science\n",
    "package_name = \"pysal\"\n",
    "testlib_install(package_name)"
   ]
  },
  {
   "cell_type": "markdown",
   "id": "9bb6804a",
   "metadata": {},
   "source": [
    "### seaborn"
   ]
  },
  {
   "cell_type": "code",
   "execution_count": null,
   "id": "95ff39b1",
   "metadata": {},
   "outputs": [],
   "source": [
    "#Seaborn is a Python data visualization library based on matplotlib. \n",
    "#It provides a high-level interface for drawing attractive and informative statistical graphics.\n",
    "package_name = \"seaborn\"\n",
    "testlib_install(package_name)"
   ]
  },
  {
   "cell_type": "markdown",
   "id": "758d9db0",
   "metadata": {},
   "source": [
    "### sklearn"
   ]
  },
  {
   "cell_type": "code",
   "execution_count": null,
   "id": "e761274e",
   "metadata": {},
   "outputs": [],
   "source": [
    "# Simple and efficient tools for predictive data analysis\n",
    "package_name = \"sklearn\"\n",
    "testlib_install(package_name)"
   ]
  },
  {
   "cell_type": "markdown",
   "id": "ab5ddb65-995a-480d-8cda-2bfc656c5814",
   "metadata": {},
   "source": [
    "### Get a list of installed libraries"
   ]
  },
  {
   "cell_type": "code",
   "execution_count": null,
   "id": "5aa66c03-f3b6-49f3-bc0d-624b3257bb83",
   "metadata": {},
   "outputs": [],
   "source": [
    "pip list"
   ]
  }
 ],
 "metadata": {
  "kernelspec": {
   "display_name": "Python 3 (ipykernel)",
   "language": "python",
   "name": "python3"
  },
  "language_info": {
   "codemirror_mode": {
    "name": "ipython",
    "version": 3
   },
   "file_extension": ".py",
   "mimetype": "text/x-python",
   "name": "python",
   "nbconvert_exporter": "python",
   "pygments_lexer": "ipython3",
   "version": "3.9.13"
  }
 },
 "nbformat": 4,
 "nbformat_minor": 5
}
