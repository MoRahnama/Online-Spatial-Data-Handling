{
 "cells": [
  {
   "cell_type": "markdown",
   "id": "9f0e3185",
   "metadata": {},
   "source": [
    "# GGE5404: Online Spatial Data Handling\n",
    "## Assignment 1\n",
    "### Name: Mohammadali Rahnama\n",
    "### Student Number: 3709515\n",
    "### Date: 2023-03-06"
   ]
  },
  {
   "cell_type": "markdown",
   "id": "5c82bfd6",
   "metadata": {},
   "source": [
    "### Part A. Read and Query Data\n",
    "First, we import the required packages in order to use them throughout the exercise."
   ]
  },
  {
   "cell_type": "code",
   "execution_count": 1,
   "id": "eae1fafe",
   "metadata": {},
   "outputs": [
    {
     "name": "stderr",
     "output_type": "stream",
     "text": [
      "C:\\ProgramData\\Anaconda3\\lib\\site-packages\\geopandas\\_compat.py:123: UserWarning: The Shapely GEOS version (3.10.1-CAPI-1.16.0) is incompatible with the GEOS version PyGEOS was compiled with (3.10.4-CAPI-1.16.2). Conversions between both will be slow.\n",
      "  warnings.warn(\n"
     ]
    }
   ],
   "source": [
    "from shapely.geometry import Point\n",
    "import geopandas as gpd"
   ]
  },
  {
   "cell_type": "markdown",
   "id": "ce7d4669",
   "metadata": {},
   "source": [
    "#### 1. What is (are) the name(s) of the Aboriginal Lands (AL_TA_NB_2_143_eng) within York County?\n",
    "Here, we first use the geopandas library to open two shapefiles, AL_TA_NB_2_143_eng.shp and geonb_county.shp using the gpd.read_file() function then we use the .head() method to print the first few rows of the DataFrame so we can see how the shape file looks like."
   ]
  },
  {
   "cell_type": "code",
   "execution_count": 2,
   "id": "8b4176fc",
   "metadata": {},
   "outputs": [
    {
     "name": "stdout",
     "output_type": "stream",
     "text": [
      "    ACQTECH METACOVER   CREDATE   REVDATE  ACCURACY PROVIDER DATASETNAM  \\\n",
      "0  Computed   Partial  20030407  20150105         2  Federal         NB   \n",
      "1  Computed   Partial  20030407  20150504         2  Federal         NB   \n",
      "2  Computed   Partial  20030407  20170206       100  Federal         NB   \n",
      "3  Computed   Partial  20030407  20170206       100  Federal         NB   \n",
      "4  Computed   Partial  20030407  20180501         2  Federal         NB   \n",
      "\n",
      "  SPECVERS                               NID ALCODE  ... NAME4    LANGUAGE5  \\\n",
      "0      1.1  e93b739cbbe211d892e2080020a0f4c9  06067  ...  NULL  No Language   \n",
      "1      1.1  e9968bf3bbe211d892e2080020a0f4c9  06020  ...  NULL  No Language   \n",
      "2      1.1  e92a358abbe211d892e2080020a0f4c9  06012  ...  NULL  No Language   \n",
      "3      1.1  bb4c274d849c20c35802ac275c734ea0  06010  ...  NULL  No Language   \n",
      "4      1.1  e8f0aef7bbe211d892e2080020a0f4c9  06007  ...  NULL  No Language   \n",
      "\n",
      "  NAME5 JUR1 JUR2 JUR3 JUR4          ALTYPE  \\\n",
      "0  NULL   NB  NaN  NaN  NaN  Indian Reserve   \n",
      "1  NULL   NB  NaN  NaN  NaN  Indian Reserve   \n",
      "2  NULL   NB  NaN  NaN  NaN  Indian Reserve   \n",
      "3  NULL   NB  NaN  NaN  NaN  Indian Reserve   \n",
      "4  NULL   NB  NaN  NaN  NaN  Indian Reserve   \n",
      "\n",
      "                                              WEBREF  \\\n",
      "0  http://clss.nrcan.gc.ca/map-carte-eng.php?can=...   \n",
      "1  http://clss.nrcan.gc.ca/map-carte-eng.php?can=...   \n",
      "2  http://clss.nrcan.gc.ca/map-carte-eng.php?can=...   \n",
      "3  http://clss.nrcan.gc.ca/map-carte-eng.php?can=...   \n",
      "4  http://clss.nrcan.gc.ca/map-carte-eng.php?can=...   \n",
      "\n",
      "                                            geometry  \n",
      "0  POLYGON ((-66.37413 47.72809, -66.38416 47.728...  \n",
      "1  POLYGON ((-65.80460 46.96266, -65.80633 46.961...  \n",
      "2  MULTIPOLYGON (((-65.78266 46.81868, -65.78288 ...  \n",
      "3  MULTIPOLYGON (((-65.75289 47.02662, -65.76072 ...  \n",
      "4  MULTIPOLYGON (((-64.99352 47.66386, -64.99346 ...  \n",
      "\n",
      "[5 rows x 27 columns]\n"
     ]
    }
   ],
   "source": [
    "# Read in the shapefile\n",
    "roads = gpd.read_file('AL_TA_NB_2_143_eng.shp')\n",
    "\n",
    "# Print all the attributes\n",
    "print(roads.head())"
   ]
  },
  {
   "cell_type": "code",
   "execution_count": 3,
   "id": "b4ecefd6",
   "metadata": {},
   "outputs": [
    {
     "name": "stdout",
     "output_type": "stream",
     "text": [
      "           AREA      DISPX      DISPY    KEYWORD  USERNUM     FCODE  \\\n",
      "0  9.272127e+09  2449050.8  7475334.4  500100010   5001.0  DLBNCO_C   \n",
      "1  2.773259e+09  2522165.0  7466790.8  500100003   5001.0  DLBNCO_C   \n",
      "\n",
      "       SOURCEID        KEY ENG_NAME FRE_NAME        DATE  \\\n",
      "0  AAVDADTIAA04  500100010     York     York  2004_01_01   \n",
      "1  AAVDADTIAA04  500100003  Sunbury  Sunbury  2004_01_01   \n",
      "\n",
      "                                            geometry  \n",
      "0  POLYGON ((2400658.350 7438964.650, 2400661.100...  \n",
      "1  POLYGON ((2465904.200 7389296.650, 2465901.800...  \n"
     ]
    }
   ],
   "source": [
    "# Read in the shapefile\n",
    "roads = gpd.read_file('geonb_county.shp')\n",
    "\n",
    "# Print all the attributes\n",
    "print(roads.head())"
   ]
  },
  {
   "cell_type": "markdown",
   "id": "71d2b60e",
   "metadata": {},
   "source": [
    "And next we will use spatial join to find the aboriginal lands data that is inside the geometry of the ENG_NAME York polygon in geonb_county.shp. \n",
    "\n",
    "Please take note that one of the input geometries required reprojecting so that it could be used with the other."
   ]
  },
  {
   "cell_type": "code",
   "execution_count": 4,
   "id": "e3a270f3",
   "metadata": {},
   "outputs": [
    {
     "name": "stdout",
     "output_type": "stream",
     "text": [
      "19     KINGSCLEAR INDIAN RESERVE NO. 6\n",
      "23    ST. MARY'S INDIAN RESERVE NO. 24\n",
      "24         DEVON INDIAN RESERVE NO. 30\n",
      "Name: NAME1, dtype: object\n"
     ]
    }
   ],
   "source": [
    "# Load the shapefiles\n",
    "aboriginal_lands = gpd.read_file(\"AL_TA_NB_2_143_eng.shp\")\n",
    "Geonb_county = gpd.read_file(\"geonb_county.shp\")\n",
    "\n",
    "# Filter the york_county data for the York polygon\n",
    "york_county = Geonb_county[Geonb_county[\"ENG_NAME\"] == \"York\"]\n",
    "\n",
    "# Reproject one of the geometries to match the CRS of the other\n",
    "aboriginal_lands = aboriginal_lands.to_crs(york_county.crs)\n",
    "\n",
    "# Spatial join the aboriginal_lands data with the york_poly data\n",
    "joined_data = gpd.sjoin(aboriginal_lands, york_county, predicate='within')\n",
    "\n",
    "# Print the NAME1 attribute of the joined data\n",
    "print(joined_data[\"NAME1\"])"
   ]
  },
  {
   "cell_type": "markdown",
   "id": "58abe965",
   "metadata": {},
   "source": [
    "#### 2. In the FloodExtent file, what is the maximum water level recorded?\n",
    "Here, we first read in the shapefile using the gpd.read_file() function from geopanda and then we use the .head() method to print the first few rows of the DataFrame so we can see how the shape file looks like."
   ]
  },
  {
   "cell_type": "code",
   "execution_count": 5,
   "id": "7dad56d9",
   "metadata": {},
   "outputs": [
    {
     "name": "stdout",
     "output_type": "stream",
     "text": [
      "   OBJECTID_2  OBJECTID_3  OBJECTID  Id  gridcode Vertical_D  Water_Time  \\\n",
      "0           1          71        73   1         1   CGVD2013        7700   \n",
      "1           2          72        74   3         1   CGVD2013        7700   \n",
      "2           3          73        75   4         1   CGVD2013        7700   \n",
      "3           4          74        76   5         1   CGVD2013        7700   \n",
      "4           5          75        77   6         1   CGVD2013        7700   \n",
      "\n",
      "   Water_Leve  Shape_Leng Station_ID  Shape_Le_1  Shape_Le_2  Shape_Area  \\\n",
      "0         7.7         4.0   130492.1         4.0         4.0         1.0   \n",
      "1         7.7         8.0   130492.1         8.0         8.0         3.0   \n",
      "2         7.7         8.0   130492.1         8.0         8.0         3.0   \n",
      "3         7.7        14.0   130492.1        14.0        14.0         8.0   \n",
      "4         7.7         4.0   130492.1         4.0         4.0         1.0   \n",
      "\n",
      "                                            geometry  \n",
      "0  POLYGON ((2489393.000 7441437.000, 2489393.000...  \n",
      "1  POLYGON ((2489337.000 7441420.000, 2489336.000...  \n",
      "2  POLYGON ((2489333.000 7441416.000, 2489332.000...  \n",
      "3  POLYGON ((2489399.000 7441409.000, 2489398.000...  \n",
      "4  POLYGON ((2489402.000 7441408.000, 2489401.000...  \n"
     ]
    }
   ],
   "source": [
    "# Read in the shapefile\n",
    "roads = gpd.read_file('Flood_Extent_2018_LowerSaintJohn.shp')\n",
    "\n",
    "# Print all the attributes\n",
    "print(roads.head())"
   ]
  },
  {
   "cell_type": "markdown",
   "id": "0898c5a0",
   "metadata": {},
   "source": [
    "Next, we use the idxmax() function of the pandas dataframe to find the index of the row with the maximum value in the Water_Leve column. We then use the loc[] function to select the row with this index and store it in the max_water_level_entry variable."
   ]
  },
  {
   "cell_type": "code",
   "execution_count": 6,
   "id": "a4791ea2",
   "metadata": {},
   "outputs": [
    {
     "name": "stdout",
     "output_type": "stream",
     "text": [
      "Entry with maximum Water_Level attribute:\n",
      "OBJECTID_2                                                  220\n",
      "OBJECTID_3                                                    2\n",
      "OBJECTID                                                      2\n",
      "Id                                                          243\n",
      "gridcode                                                      1\n",
      "Vertical_D                                             CGVD2013\n",
      "Water_Time                                                10700\n",
      "Water_Leve                                                 10.7\n",
      "Shape_Leng                                              10850.0\n",
      "Station_ID                                                  NaN\n",
      "Shape_Le_1                                              10850.0\n",
      "Shape_Le_2                                              10850.0\n",
      "Shape_Area                                             785205.0\n",
      "geometry      POLYGON ((2471271 7439154, 2471271 7439153, 24...\n",
      "Name: 219, dtype: object\n"
     ]
    }
   ],
   "source": [
    "# open the shapefile\n",
    "Flood = gpd.read_file(\"Flood_Extent_2018_LowerSaintJohn.shp\")\n",
    "\n",
    "max_water_level_entry = Flood.loc[Flood['Water_Leve'].idxmax()]\n",
    "\n",
    "# print the attributes of the entry with the maximum Water_Leve attribute\n",
    "print(\"Entry with maximum Water_Level attribute:\")\n",
    "print(max_water_level_entry)"
   ]
  },
  {
   "cell_type": "markdown",
   "id": "9a5f6dfb",
   "metadata": {},
   "source": [
    "#### 3. In the FloodExtent file, what is the maximum water level recorded in Sunbury County (geonb_county)?\n",
    "In this code, we first use the geopandas library to open two shapefiles, Flood_Extent_2018_LowerSaintJohn.shp and geonb_county.shp, and performs a spatial join to find the entry with the maximum Water_Leve attribute that is inside the geometry of the ENG_NAME Sunbury polygon in geonb_county.shp. \n",
    "\n",
    "Next, we use the idxmax() function of the pandas dataframe to find the index of the row with the maximum value in the Water_Leve column. We then use the loc[] function to select the row with this index and store it in the max_water_level_entry variable.\n",
    "\n",
    "Finally, we print the attributes of the entry with the maximum Water_Leve attribute using the print() function."
   ]
  },
  {
   "cell_type": "code",
   "execution_count": 7,
   "id": "e518b076",
   "metadata": {},
   "outputs": [
    {
     "name": "stdout",
     "output_type": "stream",
     "text": [
      "Entry with maximum Water_Level attribute:\n",
      "OBJECTID_2                                                   287\n",
      "OBJECTID_3                                                    70\n",
      "OBJECTID                                                      71\n",
      "Id                                                         34525\n",
      "gridcode                                                       1\n",
      "Vertical_D                                              CGVD2013\n",
      "Water_Time                                                  7300\n",
      "Water_Leve                                                   7.3\n",
      "Shape_Leng                                         415189.999999\n",
      "Station_ID                                                   NaN\n",
      "Shape_Le_1                                         415189.999999\n",
      "Shape_Le_2                                              415190.0\n",
      "Shape_Area                                            46804305.0\n",
      "geometry       POLYGON ((2500728 7418409, 2500728 7418408, 25...\n",
      "index_right                                                    1\n",
      "AREA                                               2773259154.42\n",
      "DISPX                                                  2522165.0\n",
      "DISPY                                                  7466790.8\n",
      "KEYWORD                                                500100003\n",
      "USERNUM                                                   5001.0\n",
      "FCODE                                                   DLBNCO_C\n",
      "SOURCEID                                            AAVDADTIAA04\n",
      "KEY                                                    500100003\n",
      "ENG_NAME                                                 Sunbury\n",
      "FRE_NAME                                                 Sunbury\n",
      "DATE                                                  2004_01_01\n",
      "Name: 284, dtype: object\n"
     ]
    }
   ],
   "source": [
    "# open the shapefile\n",
    "Flood = gpd.read_file(\"Flood_Extent_2018_LowerSaintJohn.shp\")\n",
    "Geonb_county = gpd.read_file(\"geonb_county.shp\")\n",
    "\n",
    "# Filter the geonb_county data for the Sunbury polygon\n",
    "Sunbury_county = Geonb_county[Geonb_county[\"ENG_NAME\"] == \"Sunbury\"]\n",
    "\n",
    "# Reproject one of the geometries to match the CRS of the other\n",
    "Flood = Flood.to_crs(Sunbury_county.crs)\n",
    "\n",
    "# Spatial join the aboriginal_lands data with the york_poly data\n",
    "joined_data = gpd.sjoin(Flood, Sunbury_county, predicate='within')\n",
    "\n",
    "max_water_level_entry = joined_data.loc[joined_data['Water_Leve'].idxmax()]\n",
    "\n",
    "# print the attributes of the entry with the maximum Water_Leve attribute\n",
    "print(\"Entry with maximum Water_Level attribute:\")\n",
    "print(max_water_level_entry)"
   ]
  },
  {
   "cell_type": "markdown",
   "id": "858c0afb",
   "metadata": {},
   "source": [
    "#### 4. What is the total Length of Roads in Sunbury and York counties (in kilometres, rounded to 2 decimals)?\n",
    "Here, we first read in the shapefile using the gpd.read_file() function from geopanda and then we use the .head() method to print the first few rows of the DataFrame so we can see how the shape file looks like."
   ]
  },
  {
   "cell_type": "code",
   "execution_count": 8,
   "id": "c7ff1cd7",
   "metadata": {},
   "outputs": [
    {
     "name": "stdout",
     "output_type": "stream",
     "text": [
      "                                NID  ROADSEGID        STREETNAME ST_TYPE  \\\n",
      "0  80274C80616D472E81ED5538386CEAAF    9857341      MOORE Street  Street   \n",
      "1  C69AB64F5A4A4AB7BEE6846ADA616139   11008592  FLAGSTONE Street  Street   \n",
      "2  8B42A3F745A449BC95C335E377950E0C   11008593    SNOWBALL Drive   Drive   \n",
      "3  8AC9D83E7431484F94B9A1CD0AFC0EA1   11008594     MADONNA Drive   Drive   \n",
      "4  C47569B1859C4CDCAA257453D04C0A2C   11008595      WICKETT Lane    Lane   \n",
      "\n",
      "  TYPE_POSI PREFIX SUFFIX  NBRLANES RTENAME1EN RTENAME2EN  ...  CLOSING  \\\n",
      "0         S   None   None         2       None       None  ...  Unknown   \n",
      "1         S   None   None         2       None       None  ...  Unknown   \n",
      "2         S   None   None         2       None       None  ...  Unknown   \n",
      "3         S   None   None         2       None       None  ...  Unknown   \n",
      "4         S   None   None         2       None       None  ...  Unknown   \n",
      "\n",
      "  L_HNUMSTR R_HNUMSTR L_HNUMF L_HNUML R_HNUMF R_HNUML            PLACE_NAME  \\\n",
      "0     Mixed     Mixed     216     213     148     155           Fredericton   \n",
      "1       Odd      Even       1       7       2       8               Hanwell   \n",
      "2       Odd      Even       1      19       2      20  Mazerolle Settlement   \n",
      "3       Odd      Even       1       5       2       6  Mazerolle Settlement   \n",
      "4       Odd      Even       1      19       2      20  Mazerolle Settlement   \n",
      "\n",
      "    COUNTY                                           geometry  \n",
      "0  Sunbury  LINESTRING (2493506.194 7433962.622, 2493498.5...  \n",
      "1     York  LINESTRING (2479574.000 7432398.000, 2479592.0...  \n",
      "2     York  LINESTRING (2475588.110 7431763.163, 2475672.7...  \n",
      "3     York  LINESTRING (2475745.668 7431874.517, 2475672.7...  \n",
      "4     York  LINESTRING (2475265.696 7431940.179, 2475349.4...  \n",
      "\n",
      "[5 rows x 37 columns]\n"
     ]
    }
   ],
   "source": [
    "# Read in the shapefile\n",
    "roads = gpd.read_file('geonb_roads_SunburyYork.shp')\n",
    "\n",
    "# Print all the attributes\n",
    "print(roads.head())"
   ]
  },
  {
   "cell_type": "markdown",
   "id": "415ca717",
   "metadata": {},
   "source": [
    "Next, we calculate the total length of all the road features in these counties by calling the length() method on the geometry column and summing the results. We divide the result by 1000 to convert from metres to kilometres.\n",
    "\n",
    "Finally, we round the result to 2 decimal places using the round() function and print the result with the units 'km'."
   ]
  },
  {
   "cell_type": "code",
   "execution_count": 9,
   "id": "c769b4d8",
   "metadata": {},
   "outputs": [
    {
     "name": "stdout",
     "output_type": "stream",
     "text": [
      "Total Length of Roads in Sunbury and York counties (in kilometres, rounded to 2 decimals):\n",
      "5155.57 km\n"
     ]
    }
   ],
   "source": [
    "# Read in the shapefile\n",
    "roads = gpd.read_file('geonb_roads_SunburyYork.shp')\n",
    "\n",
    "# Calculate the total length of roads in kilometres\n",
    "total_length_km = roads.geometry.length.sum() / 1000\n",
    "\n",
    "# Round to 2 decimals and print the result\n",
    "print(\"Total Length of Roads in Sunbury and York counties (in kilometres, rounded to 2 decimals):\")\n",
    "print(round(total_length_km, 2), \"km\")"
   ]
  },
  {
   "cell_type": "markdown",
   "id": "1bbead49",
   "metadata": {},
   "source": [
    "#### 5. Select all the roads from GeoNB Roads_SunburyYork which have a Street name of “Waterloo Row”.\n",
    "##### a. Print how many roads are selected.\n",
    "##### b. Dissolve all roads with the name Waterloo Row into 1 feature.\n",
    "##### c. Write the dissolved roads to a GeoJSON file (and include in your submission).\n",
    "Here, we first read in the shapefile using the gpd.read_file() function from geopandas. Then, we select all the road features (or rows) that have a street name of \"Waterloo Row\" by using boolean indexing and creating a new DataFrame called waterloo_rows.\n",
    "\n",
    "Next, we print out the number of selected roads using the len() function on the waterloo_rows DataFrame.\n",
    "\n",
    "Then, we dissolve all the selected road features into one feature using the dissolve() method, specifying that we want to dissolve by the STREETNAME attribute. This will merge all the features with the same street name into one feature.\n",
    "\n",
    "Finally, we write the dissolved roads to a GeoJSON file using the to_file() method, specifying the file name and format (in this case, 'waterloo_row_dissolved.geojson' and 'GeoJSON', respectively). This will create a new file in the current directory containing the dissolved roads."
   ]
  },
  {
   "cell_type": "code",
   "execution_count": 10,
   "id": "e198ced3",
   "metadata": {},
   "outputs": [
    {
     "name": "stdout",
     "output_type": "stream",
     "text": [
      "16 roads selected\n",
      "                                   NID  ROADSEGID    STREETNAME ST_TYPE  \\\n",
      "5071  56FA442F6D624B78A63E3B1EE3BE4D3F   11045501  WATERLOO Row     Row   \n",
      "5072  EAD1144D944C4BC7A1B897A203968FF9   11045502  WATERLOO Row     Row   \n",
      "5073  E3ED439D966C44D79A2AE2BA669E8A21   11045503  WATERLOO Row     Row   \n",
      "5074  F8E7B13CB52D4E6CBFAAB86892188E1A   11045504  WATERLOO Row     Row   \n",
      "5075  05EDD25143B64D739B067D717504FEE2   11045505  WATERLOO Row     Row   \n",
      "5287  D58FA6CF423E4993AAF39A0924C1766E   11045731  WATERLOO Row     Row   \n",
      "6742  0CD970123EE9412B996475872C811A29   11047268  WATERLOO Row     Row   \n",
      "6743  E584F04757884148AB5798442347108B   11047269  WATERLOO Row     Row   \n",
      "6744  f509aacb42194a6fa9c08de79d49e0a1   11047270  WATERLOO Row     Row   \n",
      "6745  5D18FA97242C4A02969CED9008ECC542   11047271  WATERLOO Row     Row   \n",
      "6746  2B2954D608B24A9E9F8F10666084E949   11047272  WATERLOO Row     Row   \n",
      "6747  0A307972AE0A46BFBA6E9EA38572109D   11047273  WATERLOO Row     Row   \n",
      "6748  EACDD7A4A51848988B3541FF60FC22F4   11047274  WATERLOO Row     Row   \n",
      "6749  EB65B00F4E324121945312EB2D941434   11047275  WATERLOO Row     Row   \n",
      "6750  A6630F8AE6AF4ABC86ADA92373F3707F   11047276  WATERLOO Row     Row   \n",
      "7544  D65D5182B86A4DDB9C1D8AD3B7D936D5   11048096  WATERLOO Row     Row   \n",
      "\n",
      "     TYPE_POSI PREFIX SUFFIX  NBRLANES RTENAME1EN RTENAME2EN  ...  CLOSING  \\\n",
      "5071         S   None   None         1       None       None  ...  Unknown   \n",
      "5072         S   None   None         2       None       None  ...  Unknown   \n",
      "5073         S   None   None         1       None       None  ...  Unknown   \n",
      "5074         S   None   None         2       None       None  ...  Unknown   \n",
      "5075         S   None   None         1       None       None  ...  Unknown   \n",
      "5287         S   None   None         2       None       None  ...  Unknown   \n",
      "6742         S   None   None         2       None       None  ...  Unknown   \n",
      "6743         S   None   None         2       None       None  ...  Unknown   \n",
      "6744         S   None   None         2       None       None  ...  Unknown   \n",
      "6745         S   None   None         2       None       None  ...  Unknown   \n",
      "6746         S   None   None         2       None       None  ...  Unknown   \n",
      "6747         S   None   None         2       None       None  ...  Unknown   \n",
      "6748         S   None   None         2       None       None  ...  Unknown   \n",
      "6749         S   None   None         2       None       None  ...  Unknown   \n",
      "6750         S   None   None         2       None       None  ...  Unknown   \n",
      "7544         S   None   None         2       None       None  ...  Unknown   \n",
      "\n",
      "     L_HNUMSTR R_HNUMSTR L_HNUMF L_HNUML R_HNUMF R_HNUML   PLACE_NAME  COUNTY  \\\n",
      "5071      None      None       0       0       0       0  Fredericton    York   \n",
      "5072      None      None       0       0       0       0  Fredericton    York   \n",
      "5073      None      None       0       0       0       0  Fredericton    York   \n",
      "5074      None      None       0       0       0       0  Fredericton    York   \n",
      "5075      None      None       0       0       0       0  Fredericton    York   \n",
      "5287       Odd      Even     401     775     400     776  Fredericton    York   \n",
      "6742       Odd      Even       1      99       2      98  Fredericton    York   \n",
      "6743       Odd      Even     101     149     100     150  Fredericton    York   \n",
      "6744       Odd      Even     151     199     152     198  Fredericton    York   \n",
      "6745       Odd      Even     201     257     200     258  Fredericton    York   \n",
      "6746       Odd      Even     259     287     260     288  Fredericton    York   \n",
      "6747       Odd      Even     297     299     296     298  Fredericton    York   \n",
      "6748       Odd      Even     301     309     300     310  Fredericton    York   \n",
      "6749       Odd      Even     311     359     312     360  Fredericton    York   \n",
      "6750       Odd      Even     361     399     362     398  Fredericton    York   \n",
      "7544       Odd      Even     289     295     290     294  Fredericton    York   \n",
      "\n",
      "                                               geometry  \n",
      "5071  LINESTRING (2489498.504 7438457.000, 2489492.1...  \n",
      "5072  LINESTRING (2489501.609 7438459.217, 2489511.6...  \n",
      "5073  LINESTRING (2489479.772 7438430.024, 2489479.7...  \n",
      "5074  LINESTRING (2489501.609 7438459.217, 2489498.5...  \n",
      "5075  LINESTRING (2489479.772 7438430.024, 2489480.3...  \n",
      "5287  LINESTRING (2489536.609 7438387.026, 2489539.8...  \n",
      "6742  LINESTRING (2489670.970 7439571.345, 2489690.5...  \n",
      "6743  LINESTRING (2489725.385 7439256.960, 2489725.5...  \n",
      "6744  LINESTRING (2489712.670 7439071.038, 2489711.9...  \n",
      "6745  LINESTRING (2489688.159 7438924.592, 2489687.4...  \n",
      "6746  LINESTRING (2489635.818 7438734.848, 2489634.8...  \n",
      "6747  LINESTRING (2489587.855 7438613.894, 2489586.6...  \n",
      "6748  LINESTRING (2489557.102 7438538.702, 2489556.7...  \n",
      "6749  LINESTRING (2489546.359 7438512.823, 2489544.8...  \n",
      "6750  LINESTRING (2489530.386 7438420.935, 2489530.6...  \n",
      "7544  LINESTRING (2489605.514 7438657.897, 2489604.1...  \n",
      "\n",
      "[16 rows x 37 columns]\n"
     ]
    }
   ],
   "source": [
    "# Read in the shapefile\n",
    "roads = gpd.read_file('geonb_roads_SunburyYork.shp')\n",
    "\n",
    "# Select all roads with a Street name of \"WATERLOO Row\"\n",
    "waterloo_rows = roads[roads['STREETNAME'] == 'WATERLOO Row']\n",
    "\n",
    "# Print the number of selected roads\n",
    "print(len(waterloo_rows), \"roads selected\")\n",
    "print(waterloo_rows)\n",
    "\n",
    "# Dissolve all the Waterloo Row roads into one feature\n",
    "waterloo_row_dissolved = waterloo_rows.dissolve(by='STREETNAME')\n",
    "\n",
    "# Write the dissolved roads to a GeoJSON file\n",
    "waterloo_row_dissolved.to_file('waterloo_row_dissolved.geojson', driver='GeoJSON')\n"
   ]
  },
  {
   "cell_type": "markdown",
   "id": "38375a9f",
   "metadata": {},
   "source": [
    "### Part B. Create data and buffer"
   ]
  },
  {
   "cell_type": "markdown",
   "id": "95d85fe0",
   "metadata": {},
   "source": [
    "#### 6. Create a Point Feature at Fredericton International Airport: 45.87286, -66.52982 (EPSG:4326)\n",
    "To create a point feature we used the shapely library.\n",
    "In this code we create a Point object using the shapely.geometry.Point class and then create a GeoDataFrame using the geopandas.GeoDataFrame class. The resulting GeoDataFrame will have one row containing the point feature with the given coordinates, and will have the specified CRS of EPSG:4326."
   ]
  },
  {
   "cell_type": "code",
   "execution_count": 11,
   "id": "18e25e05",
   "metadata": {},
   "outputs": [
    {
     "name": "stdout",
     "output_type": "stream",
     "text": [
      "                     geometry\n",
      "0  POINT (-66.52982 45.87286)\n"
     ]
    }
   ],
   "source": [
    "# Define the coordinates of the airport in EPSG:4326\n",
    "airport_coords = (-66.52982, 45.87286)\n",
    "\n",
    "# Create a Point object from the coordinates\n",
    "Fredericton_Airport_Point = Point(airport_coords)\n",
    "\n",
    "# Create a GeoDataFrame with the point feature\n",
    "crs = \"EPSG:4326\"\n",
    "Fredericton_Airport_GeoDataFrame = gpd.GeoDataFrame(geometry=[Fredericton_Airport_Point], crs=crs)\n",
    "\n",
    "# Print the GeoDataFrame\n",
    "print(Fredericton_Airport_GeoDataFrame)"
   ]
  },
  {
   "cell_type": "markdown",
   "id": "062a5b30",
   "metadata": {},
   "source": [
    "#### 7. What is the coordinate system used in the GeoNB Roads_SunburyYork file?\n",
    "To find the coordinate system used in a shapefile using geopandas, we can use the crs attribute of a GeoDataFrame object.\n",
    "Here we will load the geonb_roads_SunburyYork.shp file into a GeoDataFrame using the geopandas.read_file function. The CRS of the GeoDataFrame will be stored in its crs attribute, which we print using the print function."
   ]
  },
  {
   "cell_type": "code",
   "execution_count": 12,
   "id": "1c348037",
   "metadata": {},
   "outputs": [
    {
     "name": "stdout",
     "output_type": "stream",
     "text": [
      "epsg:2953\n"
     ]
    }
   ],
   "source": [
    "# Load the shapefile into a GeoDataFrame\n",
    "Geonb_roads = gpd.read_file(\"geonb_roads_SunburyYork.shp\")\n",
    "\n",
    "# Print the CRS of the GeoDataFrame\n",
    "print(Geonb_roads.crs)"
   ]
  },
  {
   "cell_type": "markdown",
   "id": "140ad055",
   "metadata": {},
   "source": [
    "#### 8. Project the Fredericton International Airport point (created in step 6) to match GeoNB Roads_SunburyYork.\n",
    "To project the Fredericton International Airport point to match the coordinate system of geonb_roads_SunburyYork.shp, we can use the to_crs() method of the GeoDataFrame object. \n",
    "we use the to_crs() method to reproject the GeoDataFrame to the target CRS, and print the resulting GeoDataFrame.\n",
    "The output will be a new GeoDataFrame object with the same point feature, but now in the target CRS of EPSG:2953."
   ]
  },
  {
   "cell_type": "code",
   "execution_count": 13,
   "id": "1a2847d6",
   "metadata": {},
   "outputs": [
    {
     "name": "stdout",
     "output_type": "stream",
     "text": [
      "                          geometry\n",
      "0  POINT (2497684.823 7430295.107)\n"
     ]
    }
   ],
   "source": [
    "# Reproject the GeoDataFrame to the EPSG:2953 (New Brunswick Stereographic Double)\n",
    "Fredericton_Airport_GeoDataFrame_projected = Fredericton_Airport_GeoDataFrame.to_crs(Geonb_roads.crs)\n",
    "\n",
    "# Print the projected GeoDataFrame\n",
    "print(Fredericton_Airport_GeoDataFrame_projected)"
   ]
  },
  {
   "cell_type": "markdown",
   "id": "8732b89f",
   "metadata": {},
   "source": [
    "#### 9. Create a 5km buffer around the Fredericton International Airport point.\n",
    "To create a 5km buffer around the Fredericton International Airport point, we can use the buffer() method of the Point object from the shapely library. "
   ]
  },
  {
   "cell_type": "code",
   "execution_count": 14,
   "id": "e2b6ef61",
   "metadata": {},
   "outputs": [
    {
     "name": "stdout",
     "output_type": "stream",
     "text": [
      "0    POLYGON ((2502684.823 7430295.107, 2502660.747...\n",
      "dtype: geometry\n"
     ]
    }
   ],
   "source": [
    "# Define the buffer distance (5km) in meters\n",
    "buffer_distance = 5000\n",
    "\n",
    "# Create a buffer around the point with a 5km radius\n",
    "Fredericton_Airport_GeoDataFrame_projected_buffer = Fredericton_Airport_GeoDataFrame_projected.buffer(buffer_distance)\n",
    "\n",
    "print(Fredericton_Airport_GeoDataFrame_projected_buffer)\n",
    "\n",
    "# Write the buffer to a shapefile\n",
    "Fredericton_Airport_GeoDataFrame_projected_buffer.to_file(\"Fredericton_Airport_GeoDataFrame_projected_buffer.shp\")"
   ]
  },
  {
   "cell_type": "markdown",
   "id": "5c6b436e",
   "metadata": {},
   "source": [
    "#### 10. Query to find out how many roads intersect this buffer\n",
    "####  a. Print the list of these roads.\n",
    "####  b. Write the output to a new Shapefile (and include in your submission).\n",
    "In this code, we first find the subset of roads that intersect the buffer polygon using the intersects() method.\n",
    "And next, we print the list of intersecting roads and write the roads_intersect GeoDataFrame to a new shapefile named roads_intersect.shp."
   ]
  },
  {
   "cell_type": "code",
   "execution_count": 15,
   "id": "b2b9ad85",
   "metadata": {},
   "outputs": [
    {
     "name": "stdout",
     "output_type": "stream",
     "text": [
      "Number of roads that intersect the buffer: 640\n",
      "List of roads that intersect the buffer:\n",
      "                                    NID  ROADSEGID          STREETNAME  \\\n",
      "13     44D5F40957314052AB5D56B7D1D1C646   11008618     DEXTER Crescent   \n",
      "34     691ABBDE7BD945938E7A541C82DEF278   11008667       BENERIN Court   \n",
      "36     47825DC0E19040BD9BD1204F8AF75AE3   11008671     BAILEY Crescent   \n",
      "93     E310D72A5F5943D2BAC5074ADC2AF838   11008834   ROUTE 102 Highway   \n",
      "94     468B2A6767714E3B8DB194FC740375C1   11008835   ROUTE 102 Highway   \n",
      "...                                 ...        ...                 ...   \n",
      "9784   3e2b8ef9b6374542990a1325fec9bfd6    9938704         DOYLE Drive   \n",
      "9820   DBF5AA514D01464C9EEBEB1E9D2BE526   11015102      LAWFIELD Drive   \n",
      "9861   3495ee4419bd4ae19463eaeeea12d390    9938705          COOK Court   \n",
      "10033  AA7878C288A34BDEB5D88685A9581E9D   11017526  BLACK WATCH Avenue   \n",
      "10125  BD39D406BE4D4FB092E4BEB1B3AB77A1   11014768      HALLIHAN Drive   \n",
      "\n",
      "        ST_TYPE TYPE_POSI PREFIX SUFFIX  NBRLANES RTENAME1EN RTENAME2EN  ...  \\\n",
      "13     Crescent         S   None   None         2       None       None  ...   \n",
      "34        Court         S   None   None         2       None       None  ...   \n",
      "36     Crescent         S   None   None         2       None       None  ...   \n",
      "93      Highway         S   None   None         2       None       None  ...   \n",
      "94      Highway         S   None   None         2       None       None  ...   \n",
      "...         ...       ...    ...    ...       ...        ...        ...  ...   \n",
      "9784      Drive         S   None   None         2       None       None  ...   \n",
      "9820      Drive         S   None   None         2       None       None  ...   \n",
      "9861      Court         S   None   None         2       None       None  ...   \n",
      "10033    Avenue         S   None   None         2       None       None  ...   \n",
      "10125     Drive         S   None   None         1       None       None  ...   \n",
      "\n",
      "       CLOSING L_HNUMSTR R_HNUMSTR L_HNUMF L_HNUML R_HNUMF R_HNUML PLACE_NAME  \\\n",
      "13     Unknown       Odd      Even      51     119      52     120    Lincoln   \n",
      "34     Unknown       Odd      Even       1      49       2      50    Lincoln   \n",
      "36     Unknown       Odd      Even       1      49       2      50    Lincoln   \n",
      "93     Unknown       Odd      Even    2375    2385    2376    2386    Lincoln   \n",
      "94     Unknown       Odd      Even    2387    2393    2388    2394    Lincoln   \n",
      "...        ...       ...       ...     ...     ...     ...     ...        ...   \n",
      "9784   Unknown      Even       Odd      14      50      15      49   Oromocto   \n",
      "9820   Unknown       Odd      Even      85     219      86     220   Oromocto   \n",
      "9861   Unknown      Even       Odd       2      22       1      21   Oromocto   \n",
      "10033  Unknown       Odd      Even     113     203     114     204   Oromocto   \n",
      "10125  Unknown       Odd      Even      35     101      36     100   Oromocto   \n",
      "\n",
      "        COUNTY                                           geometry  \n",
      "13     Sunbury  LINESTRING (2497496.000 7428080.000, 2497362.3...  \n",
      "34     Sunbury  LINESTRING (2498571.120 7428319.853, 2498459.6...  \n",
      "36     Sunbury  LINESTRING (2497617.090 7427908.588, 2497607.3...  \n",
      "93     Sunbury  LINESTRING (2496196.568 7431651.897, 2496291.0...  \n",
      "94     Sunbury  LINESTRING (2496291.090 7431575.195, 2496368.6...  \n",
      "...        ...                                                ...  \n",
      "9784   Sunbury  LINESTRING (2499544.276 7426685.585, 2499550.2...  \n",
      "9820   Sunbury  LINESTRING (2501030.874 7426459.371, 2500908.2...  \n",
      "9861   Sunbury  LINESTRING (2499544.276 7426685.585, 2499501.4...  \n",
      "10033  Sunbury  LINESTRING (2499875.420 7426336.985, 2499941.6...  \n",
      "10125  Sunbury  LINESTRING (2499002.482 7426000.509, 2499029.8...  \n",
      "\n",
      "[640 rows x 37 columns]\n"
     ]
    }
   ],
   "source": [
    "# Find the subset of roads that intersect the buffer\n",
    "roads_intersect = Geonb_roads[Geonb_roads.intersects(Fredericton_Airport_GeoDataFrame_projected_buffer.geometry.iloc[0])]\n",
    "\n",
    "# Print the list of roads that intersect the buffer\n",
    "print(\"Number of roads that intersect the buffer:\", len(roads_intersect))\n",
    "print(\"List of roads that intersect the buffer:\")\n",
    "print(roads_intersect)\n",
    "\n",
    "# Write the subset of roads to a new Shapefile\n",
    "roads_intersect.to_file(\"roads_intersect.shp\")"
   ]
  }
 ],
 "metadata": {
  "kernelspec": {
   "display_name": "Python 3 (ipykernel)",
   "language": "python",
   "name": "python3"
  },
  "language_info": {
   "codemirror_mode": {
    "name": "ipython",
    "version": 3
   },
   "file_extension": ".py",
   "mimetype": "text/x-python",
   "name": "python",
   "nbconvert_exporter": "python",
   "pygments_lexer": "ipython3",
   "version": "3.9.13"
  }
 },
 "nbformat": 4,
 "nbformat_minor": 5
}
