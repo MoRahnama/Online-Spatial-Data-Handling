{
 "cells": [
  {
   "cell_type": "code",
   "execution_count": 1,
   "id": "9dcd23ac",
   "metadata": {},
   "outputs": [
    {
     "name": "stderr",
     "output_type": "stream",
     "text": [
      "C:\\ProgramData\\Anaconda3\\lib\\site-packages\\geopandas\\_compat.py:123: UserWarning: The Shapely GEOS version (3.10.1-CAPI-1.16.0) is incompatible with the GEOS version PyGEOS was compiled with (3.10.4-CAPI-1.16.2). Conversions between both will be slow.\n",
      "  warnings.warn(\n"
     ]
    }
   ],
   "source": [
    "# import text file as geopandas array\n",
    "import geopandas as gpd\n",
    "from osgeo import gdal, ogr\n",
    "import matplotlib.pyplot as plt\n",
    "import urllib3\n",
    "import os"
   ]
  },
  {
   "cell_type": "code",
   "execution_count": 3,
   "id": "6b3c37b1",
   "metadata": {},
   "outputs": [],
   "source": [
    "#assign file to a variable:\n",
    "filename = \"./M3_AprilTemp_Projected.csv\""
   ]
  },
  {
   "cell_type": "code",
   "execution_count": 4,
   "id": "ae2ddd8c",
   "metadata": {},
   "outputs": [
    {
     "name": "stdout",
     "output_type": "stream",
     "text": [
      "  OID_                 Long                 Lat            Stn_Name  Clim_ID  \\\n",
      "0    6  -66.537000000000006  45.869000000000000         FREDERICTON  8101505   \n",
      "1    7  -66.430000000000007  45.829999999999998          GAGETOWN A  8101792   \n",
      "2    8  -66.802000000000007  44.712000000000003  GRAND MANAN SAR CS  8101925   \n",
      "3   10  -65.465000000000003  47.009000000000000       MIRAMICHI RCS  8100989   \n",
      "4   14  -67.715999999999994  46.712000000000003           AROOSTOOK  8100300   \n",
      "5   15  -64.679000000000002  46.112000000000002      MONCTON INTL A  8103201   \n",
      "6   16  -64.768000000000001  46.430000000000000    BUCTOUCHE CDA CS  8100593   \n",
      "7   17  -66.608999999999995  45.920000000000002  FREDERICTON CDA CS  8101605   \n",
      "8   18  -66.450000000000003  45.838999999999999     GAGETOWN AWOS A  8101794   \n",
      "\n",
      "  Prov        AvgTempDegC_                 Northing                  Easting  \\\n",
      "0   NB   7.750000000000000  7429866.332100000232458  2497127.196600001305342   \n",
      "1   NB   7.912500000000000  7425533.515200000256300  2505438.646800000220537   \n",
      "2   NB   8.262499999999999  7301320.677299998700619  2476065.524599999189377   \n",
      "3   NB   8.387499999999999  7557095.627700001001358  2578698.018100000917912   \n",
      "4   NB   8.824999999999999  7524280.390900000929832  2407029.971900001168251   \n",
      "5   NB   9.775000000000000  7458490.997499998658895  2640758.191500000655651   \n",
      "6   NB   9.925000000000001  7493676.989999998360872  2633105.746700000017881   \n",
      "7   NB  10.000000000000000  7435539.739000000059605  2491544.799899999052286   \n",
      "8   NB  10.412500000000000  7426532.619500000029802  2503884.097699999809265   \n",
      "\n",
      "  geometry  \n",
      "0     None  \n",
      "1     None  \n",
      "2     None  \n",
      "3     None  \n",
      "4     None  \n",
      "5     None  \n",
      "6     None  \n",
      "7     None  \n",
      "8     None  \n"
     ]
    }
   ],
   "source": [
    "#now open in Geopandas dataframe and see the difference in how data is assigned. \n",
    "gdf = gpd.read_file(filename)\n",
    "# and print the data, gdf. Notice the difference from the previous print. \n",
    "print(gdf)\n",
    "#notice that the points the file have a Lat/Lon and Northing Easting field, but the Geomtry Column is empty."
   ]
  },
  {
   "cell_type": "code",
   "execution_count": 6,
   "id": "13eff8b0",
   "metadata": {},
   "outputs": [
    {
     "data": {
      "text/plain": [
       "OID_            0\n",
       "Long            0\n",
       "Lat             0\n",
       "Stn_Name        0\n",
       "Clim_ID         0\n",
       "Prov            0\n",
       "AvgTempDegC_    0\n",
       "Northing        0\n",
       "Easting         0\n",
       "geometry        9\n",
       "dtype: int64"
      ]
     },
     "execution_count": 6,
     "metadata": {},
     "output_type": "execute_result"
    }
   ],
   "source": [
    "#count the NaN in the table:\n",
    "gdf.isna().sum()"
   ]
  },
  {
   "cell_type": "code",
   "execution_count": null,
   "id": "a93c1ab0",
   "metadata": {},
   "outputs": [],
   "source": []
  }
 ],
 "metadata": {
  "kernelspec": {
   "display_name": "Python 3 (ipykernel)",
   "language": "python",
   "name": "python3"
  },
  "language_info": {
   "codemirror_mode": {
    "name": "ipython",
    "version": 3
   },
   "file_extension": ".py",
   "mimetype": "text/x-python",
   "name": "python",
   "nbconvert_exporter": "python",
   "pygments_lexer": "ipython3",
   "version": "3.9.13"
  }
 },
 "nbformat": 4,
 "nbformat_minor": 5
}
